{
 "cells": [
  {
   "cell_type": "code",
   "execution_count": 200,
   "id": "c56ea2d4-4cee-4523-bfac-21b413139155",
   "metadata": {},
   "outputs": [],
   "source": [
    "import numpy as np\n",
    "import pandas as pd\n",
    "import matplotlib.pyplot as plt\n",
    "from matplotlib import rc\n",
    "import seaborn as sns\n",
    "import statsmodels.api as sm\n",
    "\n",
    "\n",
    "\n",
    "from sklearn import metrics\n",
    "from sklearn.preprocessing import StandardScaler\n",
    "from sklearn.cluster import KMeans, DBSCAN\n",
    "from sklearn.svm import SVC\n",
    "from sklearn.metrics import f1_score\n",
    "from scipy.cluster.hierarchy import linkage, dendrogram, fcluster\n",
    "from scipy import stats\n",
    "\n",
    "from sklearn.model_selection import train_test_split, GridSearchCV\n",
    "from sklearn.preprocessing import StandardScaler, scale\n",
    "from sklearn.decomposition import PCA\n",
    "from sklearn.tree import DecisionTreeClassifier, export_graphviz\n",
    "import graphviz\n",
    "from sklearn.ensemble import RandomForestClassifier\n",
    "from sklearn.ensemble import GradientBoostingClassifier\n",
    "from statsmodels.api import Logit\n",
    "\n",
    "from sklearn.metrics import accuracy_score, f1_score\n",
    "from sklearn.metrics import confusion_matrix, classification_report\n",
    "from statsmodels.api import qqplot\n",
    "from statsmodels.api import add_constant\n",
    "# 분류 Decision Tree\n",
    "from sklearn.tree import DecisionTreeClassifier\n",
    "# 분류 Random Forest\n",
    "from sklearn.ensemble import RandomForestClassifier\n",
    "# 분류 Gradient Boosting \n",
    "from sklearn.ensemble import GradientBoostingClassifier\n",
    "# 분류 NN (MLPClassifier)\n",
    "from sklearn.neural_network import MLPClassifier\n",
    "\n",
    "# 모델 성능 평가: Precision, Recall, F1 Score, ROC Curve, AUC\n",
    "from sklearn.metrics import precision_score, recall_score, f1_score, roc_curve, auc\n",
    "from sklearn.metrics import confusion_matrix, classification_report\n",
    "\n",
    "# Check the Frequency of Variable\n",
    "from collections import Counter\n",
    "%matplotlib inline\n",
    "rc('font', family='NanumGothic')\n",
    "\n",
    "plt.rcParams['axes.unicode_minus'] = False\n"
   ]
  },
  {
   "cell_type": "code",
   "execution_count": 201,
   "id": "39e3a1f3-40a1-4fb3-9a78-e1e6009d49cd",
   "metadata": {},
   "outputs": [
    {
     "data": {
      "text/html": [
       "<div>\n",
       "<style scoped>\n",
       "    .dataframe tbody tr th:only-of-type {\n",
       "        vertical-align: middle;\n",
       "    }\n",
       "\n",
       "    .dataframe tbody tr th {\n",
       "        vertical-align: top;\n",
       "    }\n",
       "\n",
       "    .dataframe thead th {\n",
       "        text-align: right;\n",
       "    }\n",
       "</style>\n",
       "<table border=\"1\" class=\"dataframe\">\n",
       "  <thead>\n",
       "    <tr style=\"text-align: right;\">\n",
       "      <th></th>\n",
       "      <th>idUser</th>\n",
       "      <th>Gender</th>\n",
       "      <th>AgeGroup</th>\n",
       "    </tr>\n",
       "  </thead>\n",
       "  <tbody>\n",
       "    <tr>\n",
       "      <th>0</th>\n",
       "      <td>U100001</td>\n",
       "      <td>남성</td>\n",
       "      <td>40대</td>\n",
       "    </tr>\n",
       "    <tr>\n",
       "      <th>1</th>\n",
       "      <td>U100002</td>\n",
       "      <td>여성</td>\n",
       "      <td>30대</td>\n",
       "    </tr>\n",
       "    <tr>\n",
       "      <th>2</th>\n",
       "      <td>U100003</td>\n",
       "      <td>남성</td>\n",
       "      <td>30대</td>\n",
       "    </tr>\n",
       "    <tr>\n",
       "      <th>3</th>\n",
       "      <td>U100004</td>\n",
       "      <td>남성</td>\n",
       "      <td>30대</td>\n",
       "    </tr>\n",
       "    <tr>\n",
       "      <th>4</th>\n",
       "      <td>U100005</td>\n",
       "      <td>여성</td>\n",
       "      <td>30대</td>\n",
       "    </tr>\n",
       "  </tbody>\n",
       "</table>\n",
       "</div>"
      ],
      "text/plain": [
       "    idUser Gender AgeGroup\n",
       "0  U100001     남성      40대\n",
       "1  U100002     여성      30대\n",
       "2  U100003     남성      30대\n",
       "3  U100004     남성      30대\n",
       "4  U100005     여성      30대"
      ]
     },
     "execution_count": 201,
     "metadata": {},
     "output_type": "execute_result"
    }
   ],
   "source": [
    "df_users_raw = pd.read_csv('/home/piai/바탕화면/cvs_users.csv', encoding=\"cp949\")\n",
    "df_users_raw.head()"
   ]
  },
  {
   "cell_type": "code",
   "execution_count": 202,
   "id": "4d2ec7fb-1049-4c13-89d3-0c12701c0d3b",
   "metadata": {},
   "outputs": [
    {
     "name": "stdout",
     "output_type": "stream",
     "text": [
      "<class 'pandas.core.frame.DataFrame'>\n",
      "RangeIndex: 1098 entries, 0 to 1097\n",
      "Data columns (total 3 columns):\n",
      " #   Column    Non-Null Count  Dtype \n",
      "---  ------    --------------  ----- \n",
      " 0   idUser    1098 non-null   object\n",
      " 1   Gender    1098 non-null   object\n",
      " 2   AgeGroup  1098 non-null   object\n",
      "dtypes: object(3)\n",
      "memory usage: 25.9+ KB\n"
     ]
    }
   ],
   "source": [
    "df_users_raw.info()"
   ]
  },
  {
   "cell_type": "code",
   "execution_count": 203,
   "id": "91444daf-6075-492c-b286-32d7fa3fa050",
   "metadata": {},
   "outputs": [
    {
     "data": {
      "text/plain": [
       "idUser      0\n",
       "Gender      0\n",
       "AgeGroup    0\n",
       "dtype: int64"
      ]
     },
     "execution_count": 203,
     "metadata": {},
     "output_type": "execute_result"
    }
   ],
   "source": [
    "df_users_raw.isnull().sum()"
   ]
  },
  {
   "cell_type": "markdown",
   "id": "95ff10e9-1d6a-4b84-8bd4-ff4d29cf25c6",
   "metadata": {},
   "source": [
    "결측치는 존재하지 않는다."
   ]
  },
  {
   "cell_type": "code",
   "execution_count": 204,
   "id": "a4121a53-5b80-468f-b7ed-2fdcbe484869",
   "metadata": {},
   "outputs": [
    {
     "data": {
      "text/html": [
       "<div>\n",
       "<style scoped>\n",
       "    .dataframe tbody tr th:only-of-type {\n",
       "        vertical-align: middle;\n",
       "    }\n",
       "\n",
       "    .dataframe tbody tr th {\n",
       "        vertical-align: top;\n",
       "    }\n",
       "\n",
       "    .dataframe thead th {\n",
       "        text-align: right;\n",
       "    }\n",
       "</style>\n",
       "<table border=\"1\" class=\"dataframe\">\n",
       "  <thead>\n",
       "    <tr style=\"text-align: right;\">\n",
       "      <th></th>\n",
       "      <th>idUser</th>\n",
       "      <th>Gender</th>\n",
       "      <th>AgeGroup</th>\n",
       "    </tr>\n",
       "  </thead>\n",
       "  <tbody>\n",
       "    <tr>\n",
       "      <th>count</th>\n",
       "      <td>1098</td>\n",
       "      <td>1098</td>\n",
       "      <td>1098</td>\n",
       "    </tr>\n",
       "    <tr>\n",
       "      <th>unique</th>\n",
       "      <td>1098</td>\n",
       "      <td>2</td>\n",
       "      <td>6</td>\n",
       "    </tr>\n",
       "    <tr>\n",
       "      <th>top</th>\n",
       "      <td>U100001</td>\n",
       "      <td>남성</td>\n",
       "      <td>30대</td>\n",
       "    </tr>\n",
       "    <tr>\n",
       "      <th>freq</th>\n",
       "      <td>1</td>\n",
       "      <td>731</td>\n",
       "      <td>352</td>\n",
       "    </tr>\n",
       "  </tbody>\n",
       "</table>\n",
       "</div>"
      ],
      "text/plain": [
       "         idUser Gender AgeGroup\n",
       "count      1098   1098     1098\n",
       "unique     1098      2        6\n",
       "top     U100001     남성      30대\n",
       "freq          1    731      352"
      ]
     },
     "execution_count": 204,
     "metadata": {},
     "output_type": "execute_result"
    }
   ],
   "source": [
    "df_users_raw.describe()"
   ]
  },
  {
   "cell_type": "markdown",
   "id": "2434ce47-9424-4324-b25c-72000dee3680",
   "metadata": {},
   "source": [
    "idUser에는 모두 다른 값이 들어있고 총 1098명의 User가 있다.\n",
    "\n",
    "Gender는 남성 여성이 있고, 남성은 731명/ 여성은 368명이 있다.\n",
    "\n",
    "Agegroup은 총 6개(10대, 20대, 30대, 40대, 50대, 60대이상)가 있고, 30대가 352명으로 가장 많다."
   ]
  },
  {
   "cell_type": "code",
   "execution_count": 205,
   "id": "9314c0ec-ab66-4047-a2f6-a431d225d86c",
   "metadata": {},
   "outputs": [
    {
     "name": "stdout",
     "output_type": "stream",
     "text": [
      "Gender\n",
      "남성    731\n",
      "여성    367\n",
      "dtype: int64\n",
      "\n",
      "AgeGroup\n",
      "10대       69\n",
      "20대      295\n",
      "30대      352\n",
      "40대      222\n",
      "50대      126\n",
      "60대이상     34\n",
      "dtype: int64\n",
      "\n",
      "Gender  AgeGroup\n",
      "남성      10대          51\n",
      "        20대         200\n",
      "        30대         230\n",
      "        40대         142\n",
      "        50대          85\n",
      "        60대이상        23\n",
      "여성      10대          18\n",
      "        20대          95\n",
      "        30대         122\n",
      "        40대          80\n",
      "        50대          41\n",
      "        60대이상        11\n",
      "dtype: int64\n"
     ]
    }
   ],
   "source": [
    "print(df_users_raw.groupby(\"Gender\").size())\n",
    "print()\n",
    "print(df_users_raw.groupby(\"AgeGroup\").size())\n",
    "print()\n",
    "print(df_users_raw.groupby([\"Gender\", \"AgeGroup\"]).size())"
   ]
  },
  {
   "cell_type": "code",
   "execution_count": 206,
   "id": "c8f92b38-8cd9-4644-aa51-315f0c16a030",
   "metadata": {},
   "outputs": [],
   "source": [
    "def print_countplot(data, hue = None):\n",
    "    fig, ax = plt.subplots(figsize=(6, 6))\n",
    "\n",
    "    column = data.columns[0]\n",
    "    sorted_data = data.sort_values(by=column)\n",
    "    sns.countplot(x = column, hue = hue, data = sorted_data, dodge = False, ax = ax)\n",
    "\n",
    "    ax.set_title(column)\n",
    "    \n",
    "    #각 데이터에 수치를 쓰는 부분\n",
    "    for p in ax.patches:\n",
    "        height = int(p.get_height())\n",
    "        ax.annotate(f'{height}', (p.get_x() + p.get_width() / 2, height),\n",
    "                ha='center', va='baseline', fontsize=10, color='black', xytext=(0, 5),\n",
    "                textcoords='offset points')\n",
    "    plt.xlabel(\"{}\".format(column))\n",
    "    plt.ylabel(\"{}\".format(hue))\n",
    "    plt.tight_layout()\n",
    "    plt.show()"
   ]
  },
  {
   "cell_type": "code",
   "execution_count": 207,
   "id": "4a29c825-04da-4e8c-b40b-aab4db0c7814",
   "metadata": {},
   "outputs": [
    {
     "data": {
      "image/png": "[encoded data removed]",
      "text/plain": [
       "<Figure size 600x600 with 1 Axes>"
      ]
     },
     "metadata": {},
     "output_type": "display_data"
    }
   ],
   "source": [
    "print_countplot(df_users_raw[[\"AgeGroup\"]])"
   ]
  },
  {
   "cell_type": "code",
   "execution_count": 208,
   "id": "ab899703-cc6d-48a9-9ee4-7da58af04183",
   "metadata": {},
   "outputs": [
    {
     "data": {
      "image/png": "[encoded data removed]",
      "text/plain": [
       "<Figure size 600x600 with 1 Axes>"
      ]
     },
     "metadata": {},
     "output_type": "display_data"
    }
   ],
   "source": [
    "print_countplot(df_users_raw[[\"Gender\"]])"
   ]
  },
  {
   "cell_type": "code",
   "execution_count": 209,
   "id": "45607f01-2d1f-4336-b002-594e09628ca7",
   "metadata": {},
   "outputs": [
    {
     "data": {
      "image/png": "[encoded data removed]",
      "text/plain": [
       "<Figure size 600x600 with 1 Axes>"
      ]
     },
     "metadata": {},
     "output_type": "display_data"
    }
   ],
   "source": [
    "print_countplot(df_users_raw[[\"AgeGroup\", \"Gender\"]], hue=\"Gender\")\n"
   ]
  },
  {
   "cell_type": "code",
   "execution_count": 210,
   "id": "7b27cf6e-44c6-4cc4-89b5-9a7382a2eb1f",
   "metadata": {},
   "outputs": [
    {
     "data": {
      "image/png": "[encoded data removed]",
      "text/plain": [
       "<Figure size 600x600 with 1 Axes>"
      ]
     },
     "metadata": {},
     "output_type": "display_data"
    }
   ],
   "source": [
    "print_countplot(df_users_raw[[\"Gender\",\"AgeGroup\"]], hue=\"AgeGroup\")\n"
   ]
  },
  {
   "cell_type": "code",
   "execution_count": 211,
   "id": "6fb20432-65fa-471f-a65b-7244426a0fdc",
   "metadata": {},
   "outputs": [
    {
     "data": {
      "text/html": [
       "<div>\n",
       "<style scoped>\n",
       "    .dataframe tbody tr th:only-of-type {\n",
       "        vertical-align: middle;\n",
       "    }\n",
       "\n",
       "    .dataframe tbody tr th {\n",
       "        vertical-align: top;\n",
       "    }\n",
       "\n",
       "    .dataframe thead th {\n",
       "        text-align: right;\n",
       "    }\n",
       "</style>\n",
       "<table border=\"1\" class=\"dataframe\">\n",
       "  <thead>\n",
       "    <tr style=\"text-align: right;\">\n",
       "      <th></th>\n",
       "      <th>idUser</th>\n",
       "      <th>idPOS</th>\n",
       "      <th>SalesDT</th>\n",
       "      <th>SalesDate</th>\n",
       "      <th>ItemId</th>\n",
       "      <th>ItemName</th>\n",
       "    </tr>\n",
       "  </thead>\n",
       "  <tbody>\n",
       "    <tr>\n",
       "      <th>0</th>\n",
       "      <td>U101097</td>\n",
       "      <td>U101097-POS2022-10267</td>\n",
       "      <td>06112022 오후 4:08:48</td>\n",
       "      <td>2022-11-06</td>\n",
       "      <td>I-8809802264069</td>\n",
       "      <td>피)살라미마르게리따피자</td>\n",
       "    </tr>\n",
       "    <tr>\n",
       "      <th>1</th>\n",
       "      <td>U101094</td>\n",
       "      <td>U101094-POS2022-10233</td>\n",
       "      <td>1562022 오전 9:25:22</td>\n",
       "      <td>2022-06-15</td>\n",
       "      <td>I-8801068398441</td>\n",
       "      <td>햄)메이플더블치즈버거</td>\n",
       "    </tr>\n",
       "    <tr>\n",
       "      <th>2</th>\n",
       "      <td>U101066</td>\n",
       "      <td>U101066-POS2021-10337</td>\n",
       "      <td>3152021 오후 5:19:59</td>\n",
       "      <td>2021-05-31</td>\n",
       "      <td>I-8809558848506</td>\n",
       "      <td>샐)허닭케이준닭가슴살</td>\n",
       "    </tr>\n",
       "    <tr>\n",
       "      <th>3</th>\n",
       "      <td>U101092</td>\n",
       "      <td>U101092-POS2021-10177</td>\n",
       "      <td>0292021 오후 11:13:21</td>\n",
       "      <td>2021-09-02</td>\n",
       "      <td>I-8809383955134</td>\n",
       "      <td>주)언리미트채식삼각</td>\n",
       "    </tr>\n",
       "    <tr>\n",
       "      <th>4</th>\n",
       "      <td>U101066</td>\n",
       "      <td>U101066-POS2021-10648</td>\n",
       "      <td>09102021 오전 6:51:36</td>\n",
       "      <td>2021-10-09</td>\n",
       "      <td>I-8809196615119</td>\n",
       "      <td>도)고기듬뿍불고기백반</td>\n",
       "    </tr>\n",
       "  </tbody>\n",
       "</table>\n",
       "</div>"
      ],
      "text/plain": [
       "    idUser                  idPOS              SalesDT   SalesDate  \\\n",
       "0  U101097  U101097-POS2022-10267  06112022 오후 4:08:48  2022-11-06   \n",
       "1  U101094  U101094-POS2022-10233   1562022 오전 9:25:22  2022-06-15   \n",
       "2  U101066  U101066-POS2021-10337   3152021 오후 5:19:59  2021-05-31   \n",
       "3  U101092  U101092-POS2021-10177  0292021 오후 11:13:21  2021-09-02   \n",
       "4  U101066  U101066-POS2021-10648  09102021 오전 6:51:36  2021-10-09   \n",
       "\n",
       "            ItemId      ItemName  \n",
       "0  I-8809802264069  피)살라미마르게리따피자  \n",
       "1  I-8801068398441   햄)메이플더블치즈버거  \n",
       "2  I-8809558848506   샐)허닭케이준닭가슴살  \n",
       "3  I-8809383955134    주)언리미트채식삼각  \n",
       "4  I-8809196615119   도)고기듬뿍불고기백반  "
      ]
     },
     "execution_count": 211,
     "metadata": {},
     "output_type": "execute_result"
    }
   ],
   "source": [
    "df_sales_raw = pd.read_csv('/home/piai/바탕화면/cvs_sales.csv')\n",
    "df_sales_raw.head()"
   ]
  },
  {
   "cell_type": "code",
   "execution_count": 253,
   "id": "b843d323-656c-4b45-a736-843e8cfdf6b6",
   "metadata": {},
   "outputs": [
    {
     "data": {
      "text/html": [
       "<div>\n",
       "<style scoped>\n",
       "    .dataframe tbody tr th:only-of-type {\n",
       "        vertical-align: middle;\n",
       "    }\n",
       "\n",
       "    .dataframe tbody tr th {\n",
       "        vertical-align: top;\n",
       "    }\n",
       "\n",
       "    .dataframe thead th {\n",
       "        text-align: right;\n",
       "    }\n",
       "</style>\n",
       "<table border=\"1\" class=\"dataframe\">\n",
       "  <thead>\n",
       "    <tr style=\"text-align: right;\">\n",
       "      <th></th>\n",
       "      <th>idUser</th>\n",
       "      <th>Gender</th>\n",
       "      <th>AgeGroup</th>\n",
       "    </tr>\n",
       "  </thead>\n",
       "  <tbody>\n",
       "    <tr>\n",
       "      <th>0</th>\n",
       "      <td>U100001</td>\n",
       "      <td>남성</td>\n",
       "      <td>40대</td>\n",
       "    </tr>\n",
       "    <tr>\n",
       "      <th>276</th>\n",
       "      <td>U100277</td>\n",
       "      <td>여성</td>\n",
       "      <td>30대</td>\n",
       "    </tr>\n",
       "    <tr>\n",
       "      <th>277</th>\n",
       "      <td>U100278</td>\n",
       "      <td>남성</td>\n",
       "      <td>20대</td>\n",
       "    </tr>\n",
       "    <tr>\n",
       "      <th>278</th>\n",
       "      <td>U100279</td>\n",
       "      <td>남성</td>\n",
       "      <td>30대</td>\n",
       "    </tr>\n",
       "    <tr>\n",
       "      <th>279</th>\n",
       "      <td>U100280</td>\n",
       "      <td>남성</td>\n",
       "      <td>40대</td>\n",
       "    </tr>\n",
       "    <tr>\n",
       "      <th>...</th>\n",
       "      <td>...</td>\n",
       "      <td>...</td>\n",
       "      <td>...</td>\n",
       "    </tr>\n",
       "    <tr>\n",
       "      <th>1093</th>\n",
       "      <td>U101094</td>\n",
       "      <td>남성</td>\n",
       "      <td>10대</td>\n",
       "    </tr>\n",
       "    <tr>\n",
       "      <th>1094</th>\n",
       "      <td>U101095</td>\n",
       "      <td>남성</td>\n",
       "      <td>40대</td>\n",
       "    </tr>\n",
       "    <tr>\n",
       "      <th>1095</th>\n",
       "      <td>U101096</td>\n",
       "      <td>여성</td>\n",
       "      <td>30대</td>\n",
       "    </tr>\n",
       "    <tr>\n",
       "      <th>1096</th>\n",
       "      <td>U101097</td>\n",
       "      <td>남성</td>\n",
       "      <td>30대</td>\n",
       "    </tr>\n",
       "    <tr>\n",
       "      <th>1097</th>\n",
       "      <td>U101098</td>\n",
       "      <td>남성</td>\n",
       "      <td>30대</td>\n",
       "    </tr>\n",
       "  </tbody>\n",
       "</table>\n",
       "<p>823 rows × 3 columns</p>\n",
       "</div>"
      ],
      "text/plain": [
       "       idUser Gender AgeGroup\n",
       "0     U100001     남성      40대\n",
       "276   U100277     여성      30대\n",
       "277   U100278     남성      20대\n",
       "278   U100279     남성      30대\n",
       "279   U100280     남성      40대\n",
       "...       ...    ...      ...\n",
       "1093  U101094     남성      10대\n",
       "1094  U101095     남성      40대\n",
       "1095  U101096     여성      30대\n",
       "1096  U101097     남성      30대\n",
       "1097  U101098     남성      30대\n",
       "\n",
       "[823 rows x 3 columns]"
      ]
     },
     "execution_count": 253,
     "metadata": {},
     "output_type": "execute_result"
    }
   ],
   "source": [
    "#df_users_raw 중에서 df_sales_raw에 존재하는 유저들만 뽑아온 데이터 프레임\n",
    "#df_sales_raw에 붙일 예정\n",
    "filtered_df_users_raw = df_users_raw[df_users_raw[\"idUser\"].isin(df_sales_raw[\"idUser\"])]\n",
    "filtered_df_users_raw"
   ]
  },
  {
   "cell_type": "code",
   "execution_count": 260,
   "id": "62087027-db78-4106-808f-f1148643b8f5",
   "metadata": {},
   "outputs": [
    {
     "data": {
      "text/html": [
       "<div>\n",
       "<style scoped>\n",
       "    .dataframe tbody tr th:only-of-type {\n",
       "        vertical-align: middle;\n",
       "    }\n",
       "\n",
       "    .dataframe tbody tr th {\n",
       "        vertical-align: top;\n",
       "    }\n",
       "\n",
       "    .dataframe thead th {\n",
       "        text-align: right;\n",
       "    }\n",
       "</style>\n",
       "<table border=\"1\" class=\"dataframe\">\n",
       "  <thead>\n",
       "    <tr style=\"text-align: right;\">\n",
       "      <th></th>\n",
       "      <th>idUser</th>\n",
       "      <th>idPOS</th>\n",
       "      <th>SalesDT</th>\n",
       "      <th>SalesDate</th>\n",
       "      <th>ItemId</th>\n",
       "      <th>ItemName</th>\n",
       "      <th>Gender</th>\n",
       "      <th>AgeGroup</th>\n",
       "    </tr>\n",
       "  </thead>\n",
       "  <tbody>\n",
       "    <tr>\n",
       "      <th>0</th>\n",
       "      <td>U101097</td>\n",
       "      <td>U101097-POS2022-10267</td>\n",
       "      <td>06112022 오후 4:08:48</td>\n",
       "      <td>2022-11-06</td>\n",
       "      <td>I-8809802264069</td>\n",
       "      <td>피)살라미마르게리따피자</td>\n",
       "      <td>남성</td>\n",
       "      <td>30대</td>\n",
       "    </tr>\n",
       "    <tr>\n",
       "      <th>1</th>\n",
       "      <td>U101094</td>\n",
       "      <td>U101094-POS2022-10233</td>\n",
       "      <td>1562022 오전 9:25:22</td>\n",
       "      <td>2022-06-15</td>\n",
       "      <td>I-8801068398441</td>\n",
       "      <td>햄)메이플더블치즈버거</td>\n",
       "      <td>남성</td>\n",
       "      <td>10대</td>\n",
       "    </tr>\n",
       "    <tr>\n",
       "      <th>2</th>\n",
       "      <td>U101066</td>\n",
       "      <td>U101066-POS2021-10337</td>\n",
       "      <td>3152021 오후 5:19:59</td>\n",
       "      <td>2021-05-31</td>\n",
       "      <td>I-8809558848506</td>\n",
       "      <td>샐)허닭케이준닭가슴살</td>\n",
       "      <td>남성</td>\n",
       "      <td>10대</td>\n",
       "    </tr>\n",
       "    <tr>\n",
       "      <th>3</th>\n",
       "      <td>U101092</td>\n",
       "      <td>U101092-POS2021-10177</td>\n",
       "      <td>0292021 오후 11:13:21</td>\n",
       "      <td>2021-09-02</td>\n",
       "      <td>I-8809383955134</td>\n",
       "      <td>주)언리미트채식삼각</td>\n",
       "      <td>여성</td>\n",
       "      <td>20대</td>\n",
       "    </tr>\n",
       "    <tr>\n",
       "      <th>4</th>\n",
       "      <td>U101066</td>\n",
       "      <td>U101066-POS2021-10648</td>\n",
       "      <td>09102021 오전 6:51:36</td>\n",
       "      <td>2021-10-09</td>\n",
       "      <td>I-8809196615119</td>\n",
       "      <td>도)고기듬뿍불고기백반</td>\n",
       "      <td>남성</td>\n",
       "      <td>10대</td>\n",
       "    </tr>\n",
       "  </tbody>\n",
       "</table>\n",
       "</div>"
      ],
      "text/plain": [
       "    idUser                  idPOS              SalesDT   SalesDate  \\\n",
       "0  U101097  U101097-POS2022-10267  06112022 오후 4:08:48  2022-11-06   \n",
       "1  U101094  U101094-POS2022-10233   1562022 오전 9:25:22  2022-06-15   \n",
       "2  U101066  U101066-POS2021-10337   3152021 오후 5:19:59  2021-05-31   \n",
       "3  U101092  U101092-POS2021-10177  0292021 오후 11:13:21  2021-09-02   \n",
       "4  U101066  U101066-POS2021-10648  09102021 오전 6:51:36  2021-10-09   \n",
       "\n",
       "            ItemId      ItemName Gender AgeGroup  \n",
       "0  I-8809802264069  피)살라미마르게리따피자     남성      30대  \n",
       "1  I-8801068398441   햄)메이플더블치즈버거     남성      10대  \n",
       "2  I-8809558848506   샐)허닭케이준닭가슴살     남성      10대  \n",
       "3  I-8809383955134    주)언리미트채식삼각     여성      20대  \n",
       "4  I-8809196615119   도)고기듬뿍불고기백반     남성      10대  "
      ]
     },
     "execution_count": 260,
     "metadata": {},
     "output_type": "execute_result"
    }
   ],
   "source": [
    "#sales에 합치기\n",
    "result = df_sales_raw.merge(filtered_df_users_raw, on='idUser', how='left')\n",
    "result.head()"
   ]
  },
  {
   "cell_type": "code",
   "execution_count": 269,
   "id": "5adbffc0-5054-428f-b396-786081f66647",
   "metadata": {},
   "outputs": [
    {
     "data": {
      "text/plain": [
       "idUser   ItemName      \n",
       "U100001  22del)헤이즐넛향1L     1\n",
       "         남양)이오20s135ml     1\n",
       "         오뚜기)물엿700g        1\n",
       "         오뚜기)스낵면           1\n",
       "U100277  20델)블랙아메리카노       1\n",
       "                          ..\n",
       "U101098  현대)미에로화이바병210m    1\n",
       "         흥생)구운계란2입         1\n",
       "         흥생)반숙계란1입         1\n",
       "         흥생)품절대란15입        1\n",
       "         흥양)빵빵덕레몬젤리        1\n",
       "Length: 456468, dtype: int64"
      ]
     },
     "execution_count": 269,
     "metadata": {},
     "output_type": "execute_result"
    }
   ],
   "source": [
    "result.groupby([\"idUser\",\"ItemName\"]).size()"
   ]
  },
  {
   "cell_type": "code",
   "execution_count": null,
   "id": "72464a9e-75ef-4566-bea8-5eec97c48c1f",
   "metadata": {},
   "outputs": [],
   "source": [
    "#사용자 정의 함수\n",
    "\n",
    "def fun_plot_hist(data, var):                                      #히스토그램 그리기\n",
    "    plt.title(var)\n",
    "    plt.hist(data[data[\"scale\"]==\"양품\"][var], label = \"양품\", alpha = 0.7)\n",
    "    plt.hist(data[data[\"scale\"]==\"불량\"][var], label = \"불량\", alpha = 0.7)\n",
    "    plt.legend()\n",
    "    \n",
    "    \n",
    "def fun_print_crosstab(data, var):                                 #크로스탭(피벗테이블) 만들기\n",
    "    print(pd.crosstab(index = data[\"scale\"], columns = data[var]))\n",
    "    print()\n",
    "    print(pd.crosstab(index = data[\"scale\"], columns = data[var], normalize = \"columns\").round(3))\n",
    "    "
   ]
  },
  {
   "cell_type": "code",
   "execution_count": null,
   "id": "53c12eea-3e0a-414a-81f7-75b8d6619375",
   "metadata": {},
   "outputs": [],
   "source": [
    "#select_dtypes(include = \"number\"/exclude = \"number\") 특정 자료형만 골라내기.\n",
    "#atype 자료형 변경\n",
    "\n",
    "df_raw_num = df_raw.select_dtypes(include = \"number\")\n",
    "df_raw_num = df_raw_num.astype(\"float64\")\n",
    "df_raw_num"
   ]
  },
  {
   "cell_type": "code",
   "execution_count": null,
   "id": "466207c0-6bc2-4d82-9d76-62258e55e493",
   "metadata": {},
   "outputs": [],
   "source": [
    "#이상치 boxplot 여러 개 한 번에 그리는 함수\n",
    "def print_mulitple_boxplot(data, nrows = 4, ncols = 3):\n",
    "    fig, axs = plt.subplots(nrows=nrows, ncols=ncols, figsize=(20, 20))\n",
    "\n",
    "    for i, column in enumerate(df_raw_num.columns):\n",
    "        row = i // ncols\n",
    "        col = i % ncols\n",
    "    df_raw_num[[column]].boxplot(ax=axs[row, col])  # Specify the ax parameter\n",
    "    axs[row, col].set_title(column)\n",
    "\n",
    "    plt.tight_layout()\n",
    "    plt.show()"
   ]
  },
  {
   "cell_type": "code",
   "execution_count": null,
   "id": "f473ad81-c2aa-4606-a07f-75552bedb5b9",
   "metadata": {},
   "outputs": [],
   "source": [
    "#히스토그램 histogram 여러 개 한 번에 그리는 함수\n",
    "\n",
    "def print_multiple_histogram(data, nrows = 4, ncols = 3):\n",
    "    fig, axs = plt.subplots(nrows=4, ncols=3, figsize=(20, 20))\n",
    "\n",
    "    for i, column in enumerate(data.select_dtypes(include = \"number\").columns:\n",
    "        row = i // ncols\n",
    "        col = i % ncols\n",
    "        sns.histplot(data=df_raw, x=column, hue=\"scale\", bins=15, kde=True, ax=axs[row, col])\n",
    "        axs[row, col].set_title(column)\n",
    "        axs[row, col].set_xlabel(column)\n",
    "        axs[row, col].set_ylabel(\"Frequency\")\n",
    "\n",
    "    plt.tight_layout()\n",
    "    plt.show()"
   ]
  },
  {
   "cell_type": "code",
   "execution_count": null,
   "id": "8e664fb2-d3b9-48bb-9a67-8cfc864e9271",
   "metadata": {},
   "outputs": [],
   "source": [
    "fig, axs = plt.subplots(nrows=3, ncols=3, figsize=(20, 20))\n",
    "\n",
    "def print_multiple_histogram(data, nrows = 4, ncols = 3):\n",
    "    for i, column in enumerate(data.select_dtypes(include = \"object\").columns):\n",
    "        row = i // 3\n",
    "        col = i % 3\n",
    "        df_groupby_total_good = df_raw[df_raw[\"scale\"] == \"양품\"][column].value_counts()\n",
    "        df_groupby_total_defective = df_raw[df_raw[\"scale\"] == \"불량\"][column].value_counts()\n",
    "\n",
    "        # Get a union of all unique categories in both DataFrames\n",
    "        all_categories = np.union1d(df_groupby_total_good.index, df_groupby_total_defective.index)\n",
    "\n",
    "            # Reindex the DataFrames to include all categories and fill missing values with 0\n",
    "        df_groupby_total_good = df_groupby_total_good.reindex(all_categories, fill_value=0)\n",
    "        df_groupby_total_defective = df_groupby_total_defective.reindex(all_categories, fill_value=0)\n",
    "\n",
    "        width = 0.4  # 막대의 폭을 조정\n",
    "        x = np.arange(len(all_categories))\n",
    "\n",
    "        axs[row, col].bar(x, df_groupby_total_good.values, width=width, label=\"양품\")\n",
    "        axs[row, col].bar(x, df_groupby_total_defective.values, width=width, bottom=df_groupby_total_good.values, label=\"불량\", alpha=0.7)\n",
    "\n",
    "        axs[row, col].set_xticks(x)\n",
    "        axs[row, col].set_xticklabels(all_categories, rotation=90)\n",
    "        axs[row, col].set_title(column)\n",
    "        axs[row, col].set_xlabel(column)\n",
    "        axs[row, col].set_ylabel(\"Frequency\")\n",
    "        axs[row, col].legend()\n",
    "    plt.tight_layout()\n",
    "    plt.show()"
   ]
  },
  {
   "cell_type": "code",
   "execution_count": null,
   "id": "46e408be-c395-4f02-ad10-7112c8dc7cd2",
   "metadata": {},
   "outputs": [],
   "source": [
    "#누적 막대그래프 (hue)\n",
    "def multiple_barplot(data, x,hue):\n",
    "    sns.countplot(x = x, hue=hue, data=data, dodge=False)\n",
    "\n",
    "    plt.title(\"Count Plot of Categorical Variables\")\n",
    "    plt.xlabel(\"{}\".format(x))\n",
    "    plt.ylabel(\"{}\".format(hue))\n",
    "\n",
    "    # 범례 추가\n",
    "    plt.legend()\n",
    "\n",
    "    # 그래프 보여주기\n",
    "    plt.show()\n",
    "\n",
    "    \n",
    "#이상치 boxplot 여러 개 한 번에 그리는 함수\n",
    "def print_countplot(data, nrows=1, ncols=2):\n",
    "    fig, axs = plt.subplots(nrows=nrows, ncols=ncols, figsize=(12, 6))\n",
    "\n",
    "    for i, column in enumerate(data.columns):\n",
    "        row = i // ncols\n",
    "        col = i % ncols\n",
    "        sns.countplot(x=column, data=data, ax=axs[col])\n",
    "        axs[col].set_title(column)\n",
    "        for p in axs[col].patches:\n",
    "            height = int(p.get_height())\n",
    "            axs[col].annotate(f'{height}', (p.get_x() + p.get_width() / 2, p.get_height()),\n",
    "                        ha='center', va='baseline', fontsize=10, color='black', xytext=(0, 5),\n",
    "                        textcoords='offset points')\n",
    "\n",
    "    plt.tight_layout()\n",
    "    plt.show()\n"
   ]
  },
  {
   "cell_type": "code",
   "execution_count": null,
   "id": "24e50f60-7e50-48b8-a5d9-df37d76852b9",
   "metadata": {},
   "outputs": [],
   "source": []
  },
  {
   "cell_type": "code",
   "execution_count": null,
   "id": "9ef026a5-e8f7-4203-b027-428116181cc4",
   "metadata": {},
   "outputs": [],
   "source": []
  },
  {
   "cell_type": "code",
   "execution_count": null,
   "id": "2e8ea693-500e-41b0-8c08-268e5067d261",
   "metadata": {},
   "outputs": [],
   "source": []
  },
  {
   "cell_type": "code",
   "execution_count": null,
   "id": "992c8d77-939b-4a84-87d9-de4417d82588",
   "metadata": {},
   "outputs": [],
   "source": []
  }
 ],
 "metadata": {
  "kernelspec": {
   "display_name": "Python 3 (ipykernel)",
   "language": "python",
   "name": "python3"
  },
  "language_info": {
   "codemirror_mode": {
    "name": "ipython",
    "version": 3
   },
   "file_extension": ".py",
   "mimetype": "text/x-python",
   "name": "python",
   "nbconvert_exporter": "python",
   "pygments_lexer": "ipython3",
   "version": "3.10.9"
  }
 },
 "nbformat": 4,
 "nbformat_minor": 5
}
