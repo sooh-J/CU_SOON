{
 "cells": [
  {
   "cell_type": "code",
   "execution_count": 1,
   "id": "b0251d0b-f84f-40f4-9f3c-c59e4c576a84",
   "metadata": {},
   "outputs": [],
   "source": [
    "# 데이터 프레임\n",
    "import pandas as pd\n",
    "import numpy as np\n",
    "\n",
    "# 시각화\n",
    "import matplotlib.pyplot as plt\n",
    "import matplotlib\n",
    "import matplotlib as mpl\n",
    "import seaborn as sns\n",
    "%matplotlib inline\n",
    "\n",
    "# 회귀 예측 모델\n",
    "from statsmodels.api import Logit\n",
    "import statsmodels\n",
    "\n",
    "# 사이킷런\n",
    "## 데이터 정제\n",
    "from sklearn.preprocessing import StandardScaler \n",
    "from sklearn.model_selection import train_test_split\n",
    "\n",
    "## 분류 모델\n",
    "from sklearn.neighbors import KNeighborsClassifier as KNN\n",
    "from sklearn.ensemble import RandomForestClassifier\n",
    "from sklearn.ensemble import GradientBoostingClassifier\n",
    "from sklearn.neural_network import MLPClassifier\n",
    "from sklearn.svm import SVC\n",
    "### 분류-TREE\n",
    "from sklearn.tree import DecisionTreeClassifier\n",
    "from sklearn.tree import export_graphviz\n",
    "from IPython.display import Image\n",
    "import graphviz\n",
    "\n",
    "## 예측 모델\n",
    "\n",
    "from sklearn.tree import DecisionTreeRegressor\n",
    "from sklearn.ensemble import RandomForestRegressor\n",
    "from sklearn.ensemble import GradientBoostingRegressor\n",
    "\n",
    "## 그리드 서치\n",
    "from sklearn.model_selection import GridSearchCV\n",
    "\n",
    "## 평가\n",
    "from sklearn.metrics import accuracy_score, f1_score\n",
    "from sklearn.metrics import confusion_matrix, classification_report\n",
    "\n",
    "# \n",
    "from subprocess import call\n",
    "\n",
    "# 경고메시지 무시\n",
    "import warnings\n",
    "warnings.filterwarnings('ignore')\n",
    "\n",
    "# 폰트 설정\n",
    "matplotlib.rc(\"font\", family = \"NanumGothic\")\n",
    "matplotlib.rc(\"axes\", unicode_minus=False)"
   ]
  },
  {
   "cell_type": "code",
   "execution_count": null,
   "id": "6e8374a1-9acf-410a-af68-4ac02c0283c9",
   "metadata": {},
   "outputs": [],
   "source": [
    "df = pd.read_csv()"
   ]
  },
  {
   "cell_type": "markdown",
   "id": "6b6a9e6e-f4ca-4ae8-bc09-a658f37a632b",
   "metadata": {},
   "source": [
    "## 1. 데이터 구성하기"
   ]
  },
  {
   "cell_type": "code",
   "execution_count": 5,
   "id": "d6761d62-44e1-43e2-8780-2ff7507862e0",
   "metadata": {},
   "outputs": [],
   "source": [
    "df_y = df['Price']\n",
    "df_x = df.drop('Price',axis=1,inplace=False)\n",
    "\n",
    "df_train_x, df_test_x, df_train_y, df_test_y = train_test_split(df_x, df_y, test_size=0.4, random_state=1234)\n",
    "\n",
    "print(\"train data X size: {}\".format(df_train_x.shape))\n",
    "print(\"test data X size: {}\".format(df_test_x.shape))\n",
    "print(\"train data Y size: {}\".format(df_train_y.shape))\n",
    "print(\"test data Y size: {}\".format(df_test_y.shape))"
   ]
  },
  {
   "cell_type": "markdown",
   "id": "4e130375-3fde-4d9e-b391-aba45837993d",
   "metadata": {},
   "source": [
    "## 2. 모델 생성 및 파라미터 조정"
   ]
  },
  {
   "cell_type": "markdown",
   "id": "22b3c131-e402-43fa-b804-c619f46a5e33",
   "metadata": {},
   "source": [
    "## 2. 모델 생성\n",
    "### 기본 옵션으로 모델 생성"
   ]
  },
  {
   "cell_type": "code",
   "execution_count": 21,
   "id": "93c60f14-9d52-41e5-8e62-69fb6398b06a",
   "metadata": {},
   "outputs": [
    {
     "name": "stdout",
     "output_type": "stream",
     "text": [
      "-------UNCUSTOMIZED TREE-------\n",
      "\n",
      "{'bootstrap': True, 'ccp_alpha': 0.0, 'criterion': 'squared_error', 'max_depth': None, 'max_features': 1.0, 'max_leaf_nodes': None, 'max_samples': None, 'min_impurity_decrease': 0.0, 'min_samples_leaf': 1, 'min_samples_split': 2, 'min_weight_fraction_leaf': 0.0, 'n_estimators': 100, 'n_jobs': None, 'oob_score': False, 'random_state': 1234, 'verbose': 0, 'warm_start': False}\n",
      "\n",
      "Score on training set: 0.980\n",
      "Score on test set: 0.904\n"
     ]
    }
   ],
   "source": [
    "rf_uncustomized = RandomForestRegressor()\n",
    "rf_uncustomized.fit(df_train_x, df_train_y)\n",
    "\n",
    "print(\"-------UNCUSTOMIZED TREE-------\")\n",
    "print(\"\")\n",
    "print(rf_uncustomized.get_params())\n",
    "print(\"\")\n",
    "print(\"Score on training set: {:.3f}\".format(rf_uncustomized.score(df_train_x, df_train_y)))\n",
    "print(\"Score on test set: {:.3f}\".format(rf_uncustomized.score(df_test_x, df_test_y)))"
   ]
  },
  {
   "cell_type": "markdown",
   "id": "6e550f5d-e240-4933-82ac-db48f1c07aa8",
   "metadata": {},
   "source": [
    "### 모델 파라미터 조정"
   ]
  },
  {
   "cell_type": "markdown",
   "id": "88895f35-6aeb-4926-8eed-096dfb3d7360",
   "metadata": {},
   "source": [
    "#### n_estimators"
   ]
  },
  {
   "cell_type": "code",
   "execution_count": null,
   "id": "6bfda93c-0bb3-43cb-b0e3-217b6effc771",
   "metadata": {},
   "outputs": [],
   "source": []
  },
  {
   "cell_type": "code",
   "execution_count": null,
   "id": "9ea9ae53-e581-4884-aa63-cf19a7c636dc",
   "metadata": {},
   "outputs": [],
   "source": []
  },
  {
   "cell_type": "code",
   "execution_count": null,
   "id": "8684ef24-f92b-496c-8c21-311a79973b20",
   "metadata": {},
   "outputs": [],
   "source": []
  },
  {
   "cell_type": "code",
   "execution_count": null,
   "id": "0d6a4b0a-578b-43f5-b3d1-0da1cef6145f",
   "metadata": {},
   "outputs": [],
   "source": []
  }
 ],
 "metadata": {
  "kernelspec": {
   "display_name": "Python 3 (ipykernel)",
   "language": "python",
   "name": "python3"
  },
  "language_info": {
   "codemirror_mode": {
    "name": "ipython",
    "version": 3
   },
   "file_extension": ".py",
   "mimetype": "text/x-python",
   "name": "python",
   "nbconvert_exporter": "python",
   "pygments_lexer": "ipython3",
   "version": "3.10.9"
  }
 },
 "nbformat": 4,
 "nbformat_minor": 5
}
