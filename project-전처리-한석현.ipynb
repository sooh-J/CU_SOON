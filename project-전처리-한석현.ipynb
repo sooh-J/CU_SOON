{
 "cells": [
  {
   "cell_type": "code",
   "execution_count": 1,
   "id": "c9ea57f7-15ce-4d0a-a902-505b7af15f06",
   "metadata": {},
   "outputs": [],
   "source": [
    "import pandas as pd\n",
    "import numpy as np\n",
    "import matplotlib\n",
    "import matplotlib.pyplot as plt\n",
    "import seaborn as sns\n",
    "import statsmodels.formula.api as smf\n",
    "from statsmodels.api import qqplot, add_constant\n",
    "from statsmodels.stats.outliers_influence import variance_inflation_factor\n",
    "from sklearn.model_selection import train_test_split\n",
    "from sklearn.linear_model import LinearRegression\n",
    "from sklearn.feature_selection import RFE\n",
    "from sklearn.preprocessing import StandardScaler\n",
    "from sklearn.metrics import r2_score\n",
    "import matplotlib.pyplot as plt\n",
    "plt.rcParams[\"font.family\"] = 'NanumGothic'\n",
    "plt.rcParams[\"axes.unicode_minus\"] = False\n",
    "matplotlib.rc(\"font\",family = \"NanumGothic\")\n",
    "matplotlib.rc(\"axes\",unicode_minus=False)\n",
    "from sklearn.tree import export_graphviz\n",
    "import graphviz\n",
    "from sklearn.model_selection import train_test_split\n",
    "from sklearn.tree import DecisionTreeRegressor\n",
    "from sklearn.model_selection import GridSearchCV\n",
    "from graphviz import Source\n",
    "import warnings\n",
    "import re\n",
    "warnings.filterwarnings('ignore')\n",
    "from sklearn.ensemble import RandomForestRegressor\n",
    "from sklearn.ensemble import GradientBoostingRegressor\n",
    "from sklearn.decomposition import PCA\n",
    "from sklearn.preprocessing import StandardScaler\n",
    "import statsmodels.api as sm\n",
    "from statsmodels.api import Logit\n",
    "from sklearn.metrics import accuracy_score,f1_score\n",
    "from sklearn.metrics import confusion_matrix,classification_report\n",
    "from sklearn.tree import DecisionTreeClassifier\n",
    "from imblearn.over_sampling import SMOTE\n",
    "from imblearn.under_sampling import RandomUnderSampler\n",
    "from sklearn.ensemble import RandomForestClassifier\n",
    "import scipy.stats as stats\n",
    "from statsmodels.api import qqplot\n",
    "from statsmodels.stats.anova import anova_lm\n",
    "from sklearn.metrics import mean_squared_error, mean_absolute_error\n",
    "from sklearn.metrics import mean_absolute_percentage_error,r2_score\n",
    "from mlxtend.preprocessing import TransactionEncoder\n",
    "from mlxtend.frequent_patterns import apriori, association_rules"
   ]
  },
  {
   "cell_type": "code",
   "execution_count": 2,
   "id": "a2c4a1a5-9fb5-43b5-b06d-ebaa8aa46f14",
   "metadata": {},
   "outputs": [],
   "source": [
    "matplotlib.rc(\"font\",family = 'NanumGothic')\n",
    "matplotlib.rc('axes',unicode_minus = False)"
   ]
  },
  {
   "cell_type": "code",
   "execution_count": 3,
   "id": "1c5a5143-02b6-499c-b95a-b3463b6112b0",
   "metadata": {},
   "outputs": [],
   "source": [
    "df_items = pd.read_csv(\"/home/piai/test/빅데이터 분석/빅데이터 프로젝트/진짜 프로젝트/cvs_items.csv\")"
   ]
  },
  {
   "cell_type": "code",
   "execution_count": 4,
   "id": "571fe047-5ffe-4016-ba1e-e27bcaa3d04f",
   "metadata": {},
   "outputs": [
    {
     "data": {
      "text/html": [
       "<div>\n",
       "<style scoped>\n",
       "    .dataframe tbody tr th:only-of-type {\n",
       "        vertical-align: middle;\n",
       "    }\n",
       "\n",
       "    .dataframe tbody tr th {\n",
       "        vertical-align: top;\n",
       "    }\n",
       "\n",
       "    .dataframe thead th {\n",
       "        text-align: right;\n",
       "    }\n",
       "</style>\n",
       "<table border=\"1\" class=\"dataframe\">\n",
       "  <thead>\n",
       "    <tr style=\"text-align: right;\">\n",
       "      <th></th>\n",
       "      <th>ItemIdLarge</th>\n",
       "      <th>ItemNameLarge</th>\n",
       "      <th>ItemIdMiddle</th>\n",
       "      <th>ItemNameMiddle</th>\n",
       "      <th>ItemId</th>\n",
       "      <th>ItemName</th>\n",
       "      <th>Item_CatORMaker</th>\n",
       "      <th>Price</th>\n",
       "      <th>ImageUrl</th>\n",
       "    </tr>\n",
       "  </thead>\n",
       "  <tbody>\n",
       "    <tr>\n",
       "      <th>count</th>\n",
       "      <td>4308</td>\n",
       "      <td>4308</td>\n",
       "      <td>4308</td>\n",
       "      <td>4308</td>\n",
       "      <td>4308</td>\n",
       "      <td>4303</td>\n",
       "      <td>4296</td>\n",
       "      <td>4280</td>\n",
       "      <td>2918</td>\n",
       "    </tr>\n",
       "    <tr>\n",
       "      <th>unique</th>\n",
       "      <td>6</td>\n",
       "      <td>6</td>\n",
       "      <td>3</td>\n",
       "      <td>1380</td>\n",
       "      <td>4306</td>\n",
       "      <td>3053</td>\n",
       "      <td>372</td>\n",
       "      <td>1504</td>\n",
       "      <td>2918</td>\n",
       "    </tr>\n",
       "    <tr>\n",
       "      <th>top</th>\n",
       "      <td>L5</td>\n",
       "      <td>식품</td>\n",
       "      <td>M1</td>\n",
       "      <td>가공식</td>\n",
       "      <td>롯데)카스타드6입</td>\n",
       "      <td>롯데</td>\n",
       "      <td>1500</td>\n",
       "      <td>2000</td>\n",
       "      <td>https://tqklhszfkvzk6518638.cdn.ntruss.com/pro...</td>\n",
       "    </tr>\n",
       "    <tr>\n",
       "      <th>freq</th>\n",
       "      <td>1531</td>\n",
       "      <td>1531</td>\n",
       "      <td>2128</td>\n",
       "      <td>711</td>\n",
       "      <td>2</td>\n",
       "      <td>181</td>\n",
       "      <td>268</td>\n",
       "      <td>186</td>\n",
       "      <td>1</td>\n",
       "    </tr>\n",
       "  </tbody>\n",
       "</table>\n",
       "</div>"
      ],
      "text/plain": [
       "       ItemIdLarge ItemNameLarge ItemIdMiddle ItemNameMiddle     ItemId  \\\n",
       "count         4308          4308         4308           4308       4308   \n",
       "unique           6             6            3           1380       4306   \n",
       "top             L5            식품           M1            가공식  롯데)카스타드6입   \n",
       "freq          1531          1531         2128            711          2   \n",
       "\n",
       "       ItemName Item_CatORMaker Price  \\\n",
       "count      4303            4296  4280   \n",
       "unique     3053             372  1504   \n",
       "top          롯데            1500  2000   \n",
       "freq        181             268   186   \n",
       "\n",
       "                                                 ImageUrl  \n",
       "count                                                2918  \n",
       "unique                                               2918  \n",
       "top     https://tqklhszfkvzk6518638.cdn.ntruss.com/pro...  \n",
       "freq                                                    1  "
      ]
     },
     "execution_count": 4,
     "metadata": {},
     "output_type": "execute_result"
    }
   ],
   "source": [
    "df_items.describe()"
   ]
  },
  {
   "cell_type": "code",
   "execution_count": 5,
   "id": "821d2bd4-533f-4809-800a-dd6b4e74c2bd",
   "metadata": {},
   "outputs": [
    {
     "name": "stdout",
     "output_type": "stream",
     "text": [
      "<class 'pandas.core.frame.DataFrame'>\n",
      "RangeIndex: 4308 entries, 0 to 4307\n",
      "Data columns (total 9 columns):\n",
      " #   Column           Non-Null Count  Dtype \n",
      "---  ------           --------------  ----- \n",
      " 0   ItemIdLarge      4308 non-null   object\n",
      " 1   ItemNameLarge    4308 non-null   object\n",
      " 2   ItemIdMiddle     4308 non-null   object\n",
      " 3   ItemNameMiddle   4308 non-null   object\n",
      " 4   ItemId           4308 non-null   object\n",
      " 5   ItemName         4303 non-null   object\n",
      " 6   Item_CatORMaker  4296 non-null   object\n",
      " 7   Price            4280 non-null   object\n",
      " 8   ImageUrl         2918 non-null   object\n",
      "dtypes: object(9)\n",
      "memory usage: 303.0+ KB\n"
     ]
    }
   ],
   "source": [
    "df_items.info()"
   ]
  },
  {
   "cell_type": "code",
   "execution_count": 6,
   "id": "ab8c312b-8d0c-4da0-ba99-d4630ae2bc2c",
   "metadata": {},
   "outputs": [
    {
     "data": {
      "text/plain": [
       "ItemIdLarge           0\n",
       "ItemNameLarge         0\n",
       "ItemIdMiddle          0\n",
       "ItemNameMiddle        0\n",
       "ItemId                0\n",
       "ItemName              5\n",
       "Item_CatORMaker      12\n",
       "Price                28\n",
       "ImageUrl           1390\n",
       "dtype: int64"
      ]
     },
     "execution_count": 6,
     "metadata": {},
     "output_type": "execute_result"
    }
   ],
   "source": [
    "df_items.isnull().sum()"
   ]
  },
  {
   "cell_type": "code",
   "execution_count": 7,
   "id": "1acc5b64-0f1c-4130-8c00-5353e98d10dc",
   "metadata": {},
   "outputs": [],
   "source": [
    "for index, row in df_items.iterrows():\n",
    "    itemid = row['ItemNameMiddle']\n",
    "    for val in row.values:\n",
    "        if \"?\" in str(val):\n",
    "            split_res = str(val).split(\"?\")\n",
    "\n",
    "            df_items.loc[index, 'ItemNameMiddle'] = split_res[0]\n",
    "            df_items.loc[index, 'Item_CatORMaker'] = row['Price']\n",
    "            df_items.loc[index, 'ItemName'] = row['ItemId']\n",
    "            df_items.loc[index, 'ItemId'] = split_res[1]\n",
    "            "
   ]
  },
  {
   "cell_type": "code",
   "execution_count": 11,
   "id": "a15a6f4c-5e90-4071-80d7-8a553635f238",
   "metadata": {},
   "outputs": [],
   "source": [
    "def is_url(value):\n",
    "    url_pattern = re.compile(r'http[s]?://(?:[a-zA-Z]|[0-9]|[$-_@.&+]|[!*\\\\(\\\\),]|(?:%[0-9a-fA-F][0-9-fA-F]))+')\n",
    "    return bool(url_pattern.match(value))\n",
    "\n",
    "# 가정: df는 원본 데이터가 있는 데이터프레임\n",
    "for index, row in df_items.iterrows():\n",
    "    price = row['Price']\n",
    "\n",
    "    \n",
    "    if is_url(str(price)):\n",
    "        # Price 컬럼이 URL인 경우 imageUrl에 값을 복원\n",
    "        df_items.loc[index, 'ImageUrl'] = price"
   ]
  },
  {
   "cell_type": "code",
   "execution_count": 13,
   "id": "4f46c3ca-40c9-4970-a62d-9c28249a69fe",
   "metadata": {},
   "outputs": [
    {
     "ename": "IndentationError",
     "evalue": "unindent does not match any outer indentation level (<tokenize>, line 6)",
     "output_type": "error",
     "traceback": [
      "\u001b[0;36m  File \u001b[0;32m<tokenize>:6\u001b[0;36m\u001b[0m\n\u001b[0;31m    if is_url(str(price)):\u001b[0m\n\u001b[0m    ^\u001b[0m\n\u001b[0;31mIndentationError\u001b[0m\u001b[0;31m:\u001b[0m unindent does not match any outer indentation level\n"
     ]
    }
   ],
   "source": [
    "def is_url(value):\n",
    "    url_pattern = re.compile(r'http[s]?://(?:[a-zA-Z]|[0-9]|[$-_@.&+]|[!*\\\\(\\\\),]|(?:%[0-9a-fA-F][0-9-fA-F]))+')\n",
    "    return bool(url_pattern.match(value))\n",
    "\n",
    "# 가정: df는 원본 데이터가 있는 데이터프레임\n",
    "for index, row in df_items.iterrows():\n",
    "    price = row['Price']\n",
    "\n",
    "    \n",
    "    if is_url(str(price)):\n",
    "        # Price 컬럼이 URL인 경우 imageUrl에 값을 복원\n",
    "        df_items.loc[index, 'ImageUrl'] = price"
   ]
  },
  {
   "cell_type": "code",
   "execution_count": null,
   "id": "a9309c5d-169e-4a0c-867d-520a901da292",
   "metadata": {},
   "outputs": [],
   "source": [
    "df_items.to_csv(\"output.csv\", encoding='utf-8', index=False)"
   ]
  },
  {
   "cell_type": "code",
   "execution_count": null,
   "id": "03546fd5-32e9-4e6a-a10f-f13865146568",
   "metadata": {},
   "outputs": [],
   "source": []
  }
 ],
 "metadata": {
  "kernelspec": {
   "display_name": "Python 3 (ipykernel)",
   "language": "python",
   "name": "python3"
  },
  "language_info": {
   "codemirror_mode": {
    "name": "ipython",
    "version": 3
   },
   "file_extension": ".py",
   "mimetype": "text/x-python",
   "name": "python",
   "nbconvert_exporter": "python",
   "pygments_lexer": "ipython3",
   "version": "3.11.3"
  }
 },
 "nbformat": 4,
 "nbformat_minor": 5
}
