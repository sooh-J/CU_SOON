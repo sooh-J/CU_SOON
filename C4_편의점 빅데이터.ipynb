{
 "cells": [
  {
   "cell_type": "code",
   "execution_count": 2,
   "id": "87852e74-35b5-4b22-8e7f-bcbfbdab7bf0",
   "metadata": {
    "tags": []
   },
   "outputs": [],
   "source": [
    "# C4 조 화이팅! "
   ]
  },
  {
   "cell_type": "code",
   "execution_count": 3,
   "id": "c56ea2d4-4cee-4523-bfac-21b413139155",
   "metadata": {
    "tags": []
   },
   "outputs": [],
   "source": [
    "import numpy as np\n",
    "import pandas as pd\n",
    "import matplotlib.pyplot as plt\n",
    "from matplotlib import rc\n",
    "import seaborn as sns\n",
    "import statsmodels.api as sm\n",
    "\n",
    "\n",
    "\n",
    "from sklearn import metrics\n",
    "from sklearn.preprocessing import StandardScaler\n",
    "from sklearn.cluster import KMeans, DBSCAN\n",
    "from sklearn.svm import SVC\n",
    "from sklearn.metrics import f1_score\n",
    "from scipy.cluster.hierarchy import linkage, dendrogram, fcluster\n",
    "from scipy import stats\n",
    "\n",
    "from sklearn.model_selection import train_test_split, GridSearchCV\n",
    "from sklearn.preprocessing import StandardScaler, scale\n",
    "from sklearn.decomposition import PCA\n",
    "from sklearn.tree import DecisionTreeClassifier\n",
    "from sklearn.ensemble import RandomForestClassifier\n",
    "from sklearn.ensemble import GradientBoostingClassifier\n",
    "from statsmodels.api import Logit\n",
    "\n",
    "from sklearn.metrics import accuracy_score, f1_score\n",
    "from sklearn.metrics import confusion_matrix, classification_report\n",
    "from statsmodels.api import qqplot\n",
    "from statsmodels.api import add_constant\n",
    "# 분류 Decision Tree\n",
    "from sklearn.tree import DecisionTreeClassifier\n",
    "# 분류 Random Forest\n",
    "from sklearn.ensemble import RandomForestClassifier\n",
    "# 분류 Gradient Boosting \n",
    "from sklearn.ensemble import GradientBoostingClassifier\n",
    "# 분류 NN (MLPClassifier)\n",
    "from sklearn.neural_network import MLPClassifier\n",
    "\n",
    "# 모델 성능 평가: Precision, Recall, F1 Score, ROC Curve, AUC\n",
    "from sklearn.metrics import precision_score, recall_score, f1_score, roc_curve, auc\n",
    "from sklearn.metrics import confusion_matrix, classification_report\n",
    "from matplotlib import font_manager\n",
    "from matplotlib import rc\n",
    "import matplotlib as mpl\n",
    "import matplotlib.pyplot as plt\n",
    "\n",
    "# Check the Frequency of Variable\n",
    "from collections import Counter\n",
    "%matplotlib inline\n",
    "rc('font', family='NanumGothic')\n",
    "plt.rcParams['axes.unicode_minus'] = False  ## 추가해줍니다. \n"
   ]
  },
  {
   "cell_type": "code",
   "execution_count": 4,
   "id": "ac62faec-80c0-498a-abd7-6e18fed2b978",
   "metadata": {
    "tags": []
   },
   "outputs": [],
   "source": [
    "# 글꼴 설정\n",
    "mpl.rcParams['font.family'] = 'NanumGothic'\n",
    "\n",
    "# 마이너스 기호 깨짐 해결\n",
    "mpl.rcParams['axes.unicode_minus'] = False"
   ]
  },
  {
   "cell_type": "code",
   "execution_count": 5,
   "id": "f0fafc67-3b05-496c-a2d5-a27790e08bbd",
   "metadata": {
    "tags": []
   },
   "outputs": [],
   "source": [
    "# 한석현 : 관리자 권한 뻇겼는데도 저거 실행 안됨."
   ]
  },
  {
   "cell_type": "markdown",
   "id": "24df08e7-b409-41aa-a833-b74aba2af669",
   "metadata": {},
   "source": [
    "# 그래프 그리기"
   ]
  },
  {
   "cell_type": "code",
   "execution_count": 6,
   "id": "0136db41-6e7a-488a-947f-42ef0e488966",
   "metadata": {},
   "outputs": [],
   "source": [
    "#사용자 정의 함수\n",
    "#data: 사용할 데이터\n",
    "#x: x축에 들어갈 열 이름\n",
    "#hue: 구분하는 기준\n",
    "#x_order: x축에 들어가는 데이터 순서\n",
    "#hue_order: hue에 들어가는 데이터 순서\n",
    "\n",
    "def print_barplot(data, x, hue=None, x_order=None, hue_order=None):\n",
    "    sns.countplot(x=x, hue=hue, data=data, dodge=True, order=x_order, hue_order=hue_order)\n",
    "    \n",
    "    plt.title(\"Count Plot of Categorical Variables\")\n",
    "    plt.xlabel(\"{}\".format(x))\n",
    "    plt.ylabel(\"Frequency\")\n",
    "\n",
    "    # 범례 추가\n",
    "    plt.legend()\n",
    "\n",
    "    # 그래프 보여주기\n",
    "    plt.show()\n",
    "\n",
    "age_order = ['10대', '20대', '30대', '40대', '50대', '60대이상']\n",
    "gender_order = ['남성', '여성']  # 성별 순서"
   ]
  },
  {
   "cell_type": "markdown",
   "id": "18b94547-3ae6-4aa1-b58f-5f2fb1eaf336",
   "metadata": {},
   "source": [
    "# Users 데이터에 파생변수 생성: 방문 횟수, 구매 금액"
   ]
  },
  {
   "cell_type": "code",
   "execution_count": 7,
   "id": "6fb20432-65fa-471f-a65b-7244426a0fdc",
   "metadata": {
    "tags": []
   },
   "outputs": [],
   "source": [
    "df_sales_raw = pd.read_csv('C:/Users/hanseokhyun/Desktop/빅데이터 프로젝트/result.csv')"
   ]
  },
  {
   "cell_type": "code",
   "execution_count": 8,
   "id": "4fe79228-324f-4715-a533-9f2a78782dfb",
   "metadata": {
    "tags": []
   },
   "outputs": [],
   "source": [
    "df_users_raw = pd.read_csv('C:/Users/hanseokhyun/Desktop/빅데이터 프로젝트/cvs_users.csv',encoding = 'cp949')"
   ]
  },
  {
   "cell_type": "code",
   "execution_count": 9,
   "id": "766ba9b6-5c49-4c23-a663-c52dceb09a1c",
   "metadata": {
    "tags": []
   },
   "outputs": [],
   "source": [
    "df_sales_raw[\"SalesDate\"] = pd.to_datetime(df_sales_raw['SalesDate'])\n",
    "df_sales_raw[\"SalesDT\"] = pd.to_datetime(df_sales_raw['SalesDT'])"
   ]
  },
  {
   "cell_type": "code",
   "execution_count": 10,
   "id": "a6761466-9cb3-4e96-8ea6-1b3023d8ddaf",
   "metadata": {
    "tags": []
   },
   "outputs": [],
   "source": [
    "# 파일 불러오기 최종 파일을 각자 맡은 csv 를 전처리 하였기에, 바로 resulr를 sales_raw로 불러옴"
   ]
  },
  {
   "cell_type": "code",
   "execution_count": 11,
   "id": "278073d9-9b62-49df-9815-c21384030638",
   "metadata": {
    "tags": []
   },
   "outputs": [
    {
     "name": "stdout",
     "output_type": "stream",
     "text": [
      "<class 'pandas.core.frame.DataFrame'>\n",
      "RangeIndex: 509300 entries, 0 to 509299\n",
      "Data columns (total 15 columns):\n",
      " #   Column           Non-Null Count   Dtype         \n",
      "---  ------           --------------   -----         \n",
      " 0   idUser           509300 non-null  object        \n",
      " 1   idPOS            509300 non-null  object        \n",
      " 2   SalesDT          509300 non-null  datetime64[ns]\n",
      " 3   SalesDate        509300 non-null  datetime64[ns]\n",
      " 4   ItemId           509300 non-null  object        \n",
      " 5   Gender           509300 non-null  object        \n",
      " 6   AgeGroup         509300 non-null  object        \n",
      " 7   ItemIdLarge      509300 non-null  object        \n",
      " 8   ItemNameLarge    509300 non-null  object        \n",
      " 9   ItemIdMiddle     509300 non-null  object        \n",
      " 10  ItemNameMiddle   509300 non-null  object        \n",
      " 11  ItemName         509300 non-null  object        \n",
      " 12  Item_CatORMaker  507224 non-null  object        \n",
      " 13  Price            509300 non-null  int64         \n",
      " 14  ImageUrl         509300 non-null  object        \n",
      "dtypes: datetime64[ns](2), int64(1), object(12)\n",
      "memory usage: 58.3+ MB\n"
     ]
    }
   ],
   "source": [
    "df_sales_raw.info()"
   ]
  },
  {
   "cell_type": "code",
   "execution_count": 12,
   "id": "d222f3c1-c52e-4072-9949-dd3be6b89832",
   "metadata": {
    "tags": []
   },
   "outputs": [],
   "source": [
    "df_sales_raw.dropna(subset=['Item_CatORMaker'], inplace=True)"
   ]
  },
  {
   "cell_type": "code",
   "execution_count": 13,
   "id": "e82235fb-5634-4136-975f-c76c4393b8b1",
   "metadata": {
    "tags": []
   },
   "outputs": [],
   "source": [
    "# 아이템에 해당하는 중분류와 가격이 일치 하지 않기에 이상치라 판단하고 삭제 처리 하였다."
   ]
  },
  {
   "cell_type": "code",
   "execution_count": 14,
   "id": "6f6b0975-c4cf-42e7-9568-649ef3074e40",
   "metadata": {
    "tags": []
   },
   "outputs": [],
   "source": [
    "df_sales_raw.reset_index(drop=True, inplace=True)"
   ]
  },
  {
   "cell_type": "code",
   "execution_count": 15,
   "id": "33403f2a-75b1-4bda-952b-b392c5832a17",
   "metadata": {
    "tags": []
   },
   "outputs": [],
   "source": [
    "# 인데스 초기화"
   ]
  },
  {
   "cell_type": "code",
   "execution_count": 16,
   "id": "ad4242cd-9975-4d6d-92d6-bb637ca0fa87",
   "metadata": {
    "tags": []
   },
   "outputs": [],
   "source": [
    "## 이거 자주 써서 이해 잘 해야해"
   ]
  },
  {
   "cell_type": "code",
   "execution_count": 17,
   "id": "1ca69263-50ba-45e8-9a6d-ea65fee7bebc",
   "metadata": {
    "tags": []
   },
   "outputs": [
    {
     "data": {
      "text/plain": [
       "idUser\n",
       "U100001      3\n",
       "U100277    175\n",
       "U100278    249\n",
       "U100279    672\n",
       "U100280     36\n",
       "          ... \n",
       "U101094    466\n",
       "U101095    230\n",
       "U101096    248\n",
       "U101097    291\n",
       "U101098    272\n",
       "Length: 823, dtype: int64"
      ]
     },
     "execution_count": 17,
     "metadata": {},
     "output_type": "execute_result"
    }
   ],
   "source": [
    "visit_counts = df_sales_raw.groupby([\"idUser\", \"SalesDT\"]).size().groupby(\"idUser\").size()\n",
    "visit_counts"
   ]
  },
  {
   "cell_type": "code",
   "execution_count": 18,
   "id": "919a948b-f42b-405d-9435-7fd441afcc79",
   "metadata": {
    "tags": []
   },
   "outputs": [],
   "source": [
    "# 한번 방문시 찍히는 DT의 시간은 같으므로 unique함수를 통해 제거 하려 했는데 \\\n",
    "# user가 모두 2번이 찍히는 현상이 발생 하여 size함수를 두번 써서 id와 sales DT를 그룹화 하여 size를 두번 써서 방문 횟수를 나타나게 하였음"
   ]
  },
  {
   "cell_type": "code",
   "execution_count": 20,
   "id": "8fe12950-e71e-43be-8599-2762b812ac74",
   "metadata": {
    "tags": []
   },
   "outputs": [
    {
     "data": {
      "text/html": [
       "<div>\n",
       "<style scoped>\n",
       "    .dataframe tbody tr th:only-of-type {\n",
       "        vertical-align: middle;\n",
       "    }\n",
       "\n",
       "    .dataframe tbody tr th {\n",
       "        vertical-align: top;\n",
       "    }\n",
       "\n",
       "    .dataframe thead th {\n",
       "        text-align: right;\n",
       "    }\n",
       "</style>\n",
       "<table border=\"1\" class=\"dataframe\">\n",
       "  <thead>\n",
       "    <tr style=\"text-align: right;\">\n",
       "      <th></th>\n",
       "      <th>idUser</th>\n",
       "      <th>Gender</th>\n",
       "      <th>AgeGroup</th>\n",
       "      <th>VisitCount</th>\n",
       "      <th>TotalPrice</th>\n",
       "    </tr>\n",
       "  </thead>\n",
       "  <tbody>\n",
       "    <tr>\n",
       "      <th>0</th>\n",
       "      <td>U100001</td>\n",
       "      <td>남성</td>\n",
       "      <td>40대</td>\n",
       "      <td>3.0</td>\n",
       "      <td>8250.0</td>\n",
       "    </tr>\n",
       "    <tr>\n",
       "      <th>1</th>\n",
       "      <td>U100002</td>\n",
       "      <td>여성</td>\n",
       "      <td>30대</td>\n",
       "      <td>NaN</td>\n",
       "      <td>NaN</td>\n",
       "    </tr>\n",
       "    <tr>\n",
       "      <th>2</th>\n",
       "      <td>U100003</td>\n",
       "      <td>남성</td>\n",
       "      <td>30대</td>\n",
       "      <td>NaN</td>\n",
       "      <td>NaN</td>\n",
       "    </tr>\n",
       "    <tr>\n",
       "      <th>3</th>\n",
       "      <td>U100004</td>\n",
       "      <td>남성</td>\n",
       "      <td>30대</td>\n",
       "      <td>NaN</td>\n",
       "      <td>NaN</td>\n",
       "    </tr>\n",
       "    <tr>\n",
       "      <th>4</th>\n",
       "      <td>U100005</td>\n",
       "      <td>여성</td>\n",
       "      <td>30대</td>\n",
       "      <td>NaN</td>\n",
       "      <td>NaN</td>\n",
       "    </tr>\n",
       "    <tr>\n",
       "      <th>...</th>\n",
       "      <td>...</td>\n",
       "      <td>...</td>\n",
       "      <td>...</td>\n",
       "      <td>...</td>\n",
       "      <td>...</td>\n",
       "    </tr>\n",
       "    <tr>\n",
       "      <th>1093</th>\n",
       "      <td>U101094</td>\n",
       "      <td>남성</td>\n",
       "      <td>10대</td>\n",
       "      <td>466.0</td>\n",
       "      <td>2865010.0</td>\n",
       "    </tr>\n",
       "    <tr>\n",
       "      <th>1094</th>\n",
       "      <td>U101095</td>\n",
       "      <td>남성</td>\n",
       "      <td>40대</td>\n",
       "      <td>230.0</td>\n",
       "      <td>1717250.0</td>\n",
       "    </tr>\n",
       "    <tr>\n",
       "      <th>1095</th>\n",
       "      <td>U101096</td>\n",
       "      <td>여성</td>\n",
       "      <td>30대</td>\n",
       "      <td>248.0</td>\n",
       "      <td>1767010.0</td>\n",
       "    </tr>\n",
       "    <tr>\n",
       "      <th>1096</th>\n",
       "      <td>U101097</td>\n",
       "      <td>남성</td>\n",
       "      <td>30대</td>\n",
       "      <td>291.0</td>\n",
       "      <td>2452490.0</td>\n",
       "    </tr>\n",
       "    <tr>\n",
       "      <th>1097</th>\n",
       "      <td>U101098</td>\n",
       "      <td>남성</td>\n",
       "      <td>30대</td>\n",
       "      <td>272.0</td>\n",
       "      <td>2033190.0</td>\n",
       "    </tr>\n",
       "  </tbody>\n",
       "</table>\n",
       "<p>1098 rows × 5 columns</p>\n",
       "</div>"
      ],
      "text/plain": [
       "       idUser Gender AgeGroup  VisitCount  TotalPrice\n",
       "0     U100001     남성      40대         3.0      8250.0\n",
       "1     U100002     여성      30대         NaN         NaN\n",
       "2     U100003     남성      30대         NaN         NaN\n",
       "3     U100004     남성      30대         NaN         NaN\n",
       "4     U100005     여성      30대         NaN         NaN\n",
       "...       ...    ...      ...         ...         ...\n",
       "1093  U101094     남성      10대       466.0   2865010.0\n",
       "1094  U101095     남성      40대       230.0   1717250.0\n",
       "1095  U101096     여성      30대       248.0   1767010.0\n",
       "1096  U101097     남성      30대       291.0   2452490.0\n",
       "1097  U101098     남성      30대       272.0   2033190.0\n",
       "\n",
       "[1098 rows x 5 columns]"
      ]
     },
     "metadata": {},
     "output_type": "display_data"
    }
   ],
   "source": [
    "visit_counts = df_sales_raw.groupby([\"idUser\", \"SalesDT\"]).size().groupby(\"idUser\").size().rename(\"VisitCount\")\n",
    "df_users = df_users_raw.merge(visit_counts, left_on=\"idUser\", right_index=True, how=\"left\")\n",
    "df_users.rename(columns={\"idUser_x\": \"idUser\"}, inplace=True)\n",
    "total_prices = df_sales_raw.groupby(\"idUser\")[\"Price\"].sum()\n",
    "df_users[\"TotalPrice\"] = df_users[\"idUser\"].map(total_prices)\n",
    "display(df_users)"
   ]
  },
  {
   "cell_type": "code",
   "execution_count": 21,
   "id": "75f95ee7-3dda-407a-ad33-ef1785b24542",
   "metadata": {
    "tags": []
   },
   "outputs": [],
   "source": [
    "# visit count 라는 데이터 프레임을 만들고 아이디에 따른 방문 횟수와 총 금액을 만들었음"
   ]
  },
  {
   "cell_type": "code",
   "execution_count": 22,
   "id": "c2066f2e-c226-4f79-b177-a3a63dd07e98",
   "metadata": {
    "tags": []
   },
   "outputs": [],
   "source": [
    "# 해야 할 일 방문 횟수 별로 등급을 나눠야 함 토론 필요"
   ]
  },
  {
   "cell_type": "code",
   "execution_count": 23,
   "id": "3ae4b56c-adc2-4f68-8472-2d727fb6beb2",
   "metadata": {
    "tags": []
   },
   "outputs": [],
   "source": [
    "df_users.dropna(subset=['VisitCount'], inplace=True)"
   ]
  },
  {
   "cell_type": "code",
   "execution_count": 24,
   "id": "06bc7135-f0f7-4ffa-a740-d2a2a713e540",
   "metadata": {
    "tags": []
   },
   "outputs": [],
   "source": [
    "# 아이디만 있고 방문횟수가 없는 사람들 삭제 해야겠지....?"
   ]
  },
  {
   "cell_type": "code",
   "execution_count": 25,
   "id": "3fc70b07-39d0-4147-8ee3-2e8eccdda3d3",
   "metadata": {
    "tags": []
   },
   "outputs": [],
   "source": [
    "df_users.reset_index(drop=True, inplace=True)"
   ]
  },
  {
   "cell_type": "code",
   "execution_count": 26,
   "id": "2a1dbfab-d4ae-41a3-8f2d-a36e4b6cf766",
   "metadata": {
    "tags": []
   },
   "outputs": [],
   "source": [
    "# 인데스를 초기화 해주어야 함"
   ]
  },
  {
   "cell_type": "code",
   "execution_count": 27,
   "id": "1ed0e5ab-2fbe-4353-958c-e4a771aed3de",
   "metadata": {
    "tags": []
   },
   "outputs": [
    {
     "data": {
      "text/html": [
       "<div>\n",
       "<style scoped>\n",
       "    .dataframe tbody tr th:only-of-type {\n",
       "        vertical-align: middle;\n",
       "    }\n",
       "\n",
       "    .dataframe tbody tr th {\n",
       "        vertical-align: top;\n",
       "    }\n",
       "\n",
       "    .dataframe thead th {\n",
       "        text-align: right;\n",
       "    }\n",
       "</style>\n",
       "<table border=\"1\" class=\"dataframe\">\n",
       "  <thead>\n",
       "    <tr style=\"text-align: right;\">\n",
       "      <th></th>\n",
       "      <th>VisitCount</th>\n",
       "      <th>TotalPrice</th>\n",
       "    </tr>\n",
       "  </thead>\n",
       "  <tbody>\n",
       "    <tr>\n",
       "      <th>count</th>\n",
       "      <td>823.000000</td>\n",
       "      <td>8.230000e+02</td>\n",
       "    </tr>\n",
       "    <tr>\n",
       "      <th>mean</th>\n",
       "      <td>250.720535</td>\n",
       "      <td>1.917539e+06</td>\n",
       "    </tr>\n",
       "    <tr>\n",
       "      <th>std</th>\n",
       "      <td>185.476750</td>\n",
       "      <td>1.434000e+06</td>\n",
       "    </tr>\n",
       "    <tr>\n",
       "      <th>min</th>\n",
       "      <td>3.000000</td>\n",
       "      <td>8.250000e+03</td>\n",
       "    </tr>\n",
       "    <tr>\n",
       "      <th>25%</th>\n",
       "      <td>98.500000</td>\n",
       "      <td>7.070650e+05</td>\n",
       "    </tr>\n",
       "    <tr>\n",
       "      <th>50%</th>\n",
       "      <td>228.000000</td>\n",
       "      <td>1.730400e+06</td>\n",
       "    </tr>\n",
       "    <tr>\n",
       "      <th>75%</th>\n",
       "      <td>337.500000</td>\n",
       "      <td>2.508425e+06</td>\n",
       "    </tr>\n",
       "    <tr>\n",
       "      <th>max</th>\n",
       "      <td>717.000000</td>\n",
       "      <td>5.741100e+06</td>\n",
       "    </tr>\n",
       "  </tbody>\n",
       "</table>\n",
       "</div>"
      ],
      "text/plain": [
       "       VisitCount    TotalPrice\n",
       "count  823.000000  8.230000e+02\n",
       "mean   250.720535  1.917539e+06\n",
       "std    185.476750  1.434000e+06\n",
       "min      3.000000  8.250000e+03\n",
       "25%     98.500000  7.070650e+05\n",
       "50%    228.000000  1.730400e+06\n",
       "75%    337.500000  2.508425e+06\n",
       "max    717.000000  5.741100e+06"
      ]
     },
     "execution_count": 27,
     "metadata": {},
     "output_type": "execute_result"
    }
   ],
   "source": [
    "df_users.describe()"
   ]
  },
  {
   "cell_type": "code",
   "execution_count": 28,
   "id": "cd91e898-a9b3-4bed-8214-398c789c5cf0",
   "metadata": {
    "tags": []
   },
   "outputs": [],
   "source": [
    "# users 이쌍치의 제거로 그래프를 다시 찍어봐야 함"
   ]
  },
  {
   "cell_type": "code",
   "execution_count": 29,
   "id": "7acf434f-bd10-4730-8219-7ff38ef08aa2",
   "metadata": {
    "tags": []
   },
   "outputs": [
    {
     "data": {
      "image/png": "[encoded data removed]",
      "text/plain": [
       "<Figure size 640x480 with 1 Axes>"
      ]
     },
     "metadata": {},
     "output_type": "display_data"
    }
   ],
   "source": [
    "print_barplot(df_users, x=\"AgeGroup\", hue=\"Gender\", x_order=age_order, hue_order=gender_order)"
   ]
  },
  {
   "cell_type": "code",
   "execution_count": 30,
   "id": "7c8b7812-89a9-4f67-8d6c-ed0084e883a5",
   "metadata": {
    "tags": []
   },
   "outputs": [],
   "source": [
    "# 20대와 30대의 숫자가 매우 유사함"
   ]
  },
  {
   "cell_type": "code",
   "execution_count": 31,
   "id": "382ea5b9-d85d-4e60-8d0b-d2ed8a5dfd78",
   "metadata": {
    "tags": []
   },
   "outputs": [
    {
     "name": "stderr",
     "output_type": "stream",
     "text": [
      "No artists with labels found to put in legend.  Note that artists whose label start with an underscore are ignored when legend() is called with no argument.\n"
     ]
    },
    {
     "data": {
      "image/png": "[encoded data removed]",
      "text/plain": [
       "<Figure size 640x480 with 1 Axes>"
      ]
     },
     "metadata": {},
     "output_type": "display_data"
    }
   ],
   "source": [
    "print_barplot(df_users, x = \"Gender\", x_order=gender_order)"
   ]
  },
  {
   "cell_type": "code",
   "execution_count": 32,
   "id": "951dd086-dce4-47e6-9739-2bc51bcd8b0d",
   "metadata": {
    "tags": []
   },
   "outputs": [],
   "source": [
    "# 남성과 여성의 비율이 2배 차이이다."
   ]
  },
  {
   "cell_type": "code",
   "execution_count": 33,
   "id": "68fcf387-9d9b-4609-b130-4e07c407a9a0",
   "metadata": {
    "tags": []
   },
   "outputs": [
    {
     "name": "stderr",
     "output_type": "stream",
     "text": [
      "No artists with labels found to put in legend.  Note that artists whose label start with an underscore are ignored when legend() is called with no argument.\n"
     ]
    },
    {
     "data": {
      "image/png": "[encoded data removed]",
      "text/plain": [
       "<Figure size 640x480 with 1 Axes>"
      ]
     },
     "metadata": {},
     "output_type": "display_data"
    }
   ],
   "source": [
    "print_barplot(df_users, x = \"AgeGroup\", x_order=age_order)"
   ]
  },
  {
   "cell_type": "code",
   "execution_count": 34,
   "id": "eb7f414f-fdf9-4265-a5cc-b4085cc7d490",
   "metadata": {
    "tags": []
   },
   "outputs": [],
   "source": [
    "# 전체 기간중 방문 횟수이다."
   ]
  },
  {
   "cell_type": "code",
   "execution_count": 35,
   "id": "e2cebaf2-1a71-464c-97d4-7b82940d6fae",
   "metadata": {
    "tags": []
   },
   "outputs": [],
   "source": [
    "# 후에 보면 알겠지만 20 년도와 21년도의 방문나이대 및 매출액의 변동이 심해서 이 데이터는 의미가 없을지도 모른다."
   ]
  },
  {
   "cell_type": "code",
   "execution_count": 36,
   "id": "24e50f60-7e50-48b8-a5d9-df37d76852b9",
   "metadata": {
    "scrolled": true,
    "tags": []
   },
   "outputs": [
    {
     "data": {
      "image/png": "[encoded data removed]",
      "text/plain": [
       "<Figure size 640x480 with 1 Axes>"
      ]
     },
     "metadata": {},
     "output_type": "display_data"
    }
   ],
   "source": [
    "print_barplot(df_users, x=\"Gender\", hue=\"AgeGroup\", x_order=gender_order, hue_order=age_order)"
   ]
  },
  {
   "cell_type": "code",
   "execution_count": 37,
   "id": "2431a696-2977-4549-8694-8d8d773f19b2",
   "metadata": {},
   "outputs": [],
   "source": [
    "# 남성 여성별 따로 전체 기간중 방문기간에 대한 그래프 이다."
   ]
  },
  {
   "cell_type": "code",
   "execution_count": 38,
   "id": "87467147-6964-4d3a-aadc-28205cc2bf75",
   "metadata": {
    "tags": []
   },
   "outputs": [
    {
     "name": "stdout",
     "output_type": "stream",
     "text": [
      "<class 'pandas.core.frame.DataFrame'>\n",
      "RangeIndex: 823 entries, 0 to 822\n",
      "Data columns (total 5 columns):\n",
      " #   Column      Non-Null Count  Dtype  \n",
      "---  ------      --------------  -----  \n",
      " 0   idUser      823 non-null    object \n",
      " 1   Gender      823 non-null    object \n",
      " 2   AgeGroup    823 non-null    object \n",
      " 3   VisitCount  823 non-null    float64\n",
      " 4   TotalPrice  823 non-null    float64\n",
      "dtypes: float64(2), object(3)\n",
      "memory usage: 32.3+ KB\n"
     ]
    }
   ],
   "source": [
    "df_users.info()"
   ]
  },
  {
   "cell_type": "code",
   "execution_count": 39,
   "id": "2fe19ffd-affa-4782-b24a-70c75aa25131",
   "metadata": {
    "tags": []
   },
   "outputs": [],
   "source": [
    "def print_barplot(data, x, y=None, hue=None, x_order=None, hue_order=None):\n",
    "    sns.barplot(x=x, y=y, hue=hue, data=data, order=x_order, hue_order=hue_order)\n",
    "\n",
    "    plt.legend()\n",
    "    plt.show()"
   ]
  },
  {
   "cell_type": "code",
   "execution_count": 40,
   "id": "0c415d23-1093-4017-b30c-cf2faa6a023d",
   "metadata": {},
   "outputs": [],
   "source": [
    "# y축이 들어가는 바 플롯 그래프 이다."
   ]
  },
  {
   "cell_type": "code",
   "execution_count": 41,
   "id": "6787f30e-d5eb-4400-818b-cefc895cf0f9",
   "metadata": {
    "tags": []
   },
   "outputs": [
    {
     "data": {
      "image/png": "[encoded data removed]",
      "text/plain": [
       "<Figure size 640x480 with 1 Axes>"
      ]
     },
     "metadata": {},
     "output_type": "display_data"
    }
   ],
   "source": [
    "df_mean_price = df_users.groupby([\"Gender\", \"AgeGroup\"])[\"TotalPrice\"].median().reset_index()\n",
    "# groupby를 이용해서 각 그룹의 지출 평균 금액을 계산하고 데이터프레임을 생성합니다. 이후에 reset_index()를 호출해서 인덱스를 초기화합니다.\n",
    "print_barplot(df_mean_price, x=\"Gender\", y=\"TotalPrice\", hue=\"AgeGroup\", x_order=gender_order, hue_order=age_order)\n",
    "# 위에서 생성한 데이터프레임을 활용해서 그래프를 출력합니다."
   ]
  },
  {
   "cell_type": "code",
   "execution_count": 42,
   "id": "5f8b04cf-4209-4999-9604-77a7bbaecf37",
   "metadata": {},
   "outputs": [],
   "source": [
    "# 남성과 여성의 평균 매출액 차이이다."
   ]
  },
  {
   "cell_type": "code",
   "execution_count": 43,
   "id": "1553229d-fbe9-4d71-8ee9-02ca4d862736",
   "metadata": {
    "tags": []
   },
   "outputs": [
    {
     "data": {
      "image/png": "[encoded data removed]",
      "text/plain": [
       "<Figure size 640x480 with 1 Axes>"
      ]
     },
     "metadata": {},
     "output_type": "display_data"
    }
   ],
   "source": [
    "# 사용자 정의 함수\n",
    "def print_barplot(data, x, y=None, hue=None, x_order=None, hue_order=None):\n",
    "    ax = sns.barplot(x=x, y=y, hue=hue, data=data, order=x_order, hue_order=hue_order)\n",
    "\n",
    "    plt.legend()\n",
    "    plt.show()\n",
    "\n",
    "# 각 그룹별 지출 평균 금액을 계산하여 데이터프레임 생성\n",
    "df_mean_price = df_users.groupby([\"Gender\", \"AgeGroup\"])[\"TotalPrice\"].mean().reset_index()\n",
    "\n",
    "# 위에서 생성한 데이터프레임을 활용해서 그래프를 출력합니다.\n",
    "print_barplot(df_mean_price, x=\"Gender\", y='TotalPrice', hue=\"AgeGroup\", x_order=gender_order, hue_order=age_order)"
   ]
  },
  {
   "cell_type": "code",
   "execution_count": 44,
   "id": "37154ae3-a5a4-48e2-b5e4-9c61a7644243",
   "metadata": {
    "tags": []
   },
   "outputs": [],
   "source": [
    "# 평균 지출 금액인데 혹시나 이상치가 있을까봐 걱정되어 중앙값으로 측정 하였음"
   ]
  },
  {
   "cell_type": "code",
   "execution_count": 45,
   "id": "9c41e398-abbb-4d75-893f-37243e728d9b",
   "metadata": {
    "tags": []
   },
   "outputs": [
    {
     "name": "stderr",
     "output_type": "stream",
     "text": [
      "C:\\Users\\hanseokhyun\\AppData\\Local\\Temp\\ipykernel_27040\\302322583.py:25: UserWarning: Glyph 45224 (\\N{HANGUL SYLLABLE NAM}) missing from current font.\n",
      "  plt.tight_layout()\n",
      "C:\\Users\\hanseokhyun\\AppData\\Local\\Temp\\ipykernel_27040\\302322583.py:25: UserWarning: Glyph 49457 (\\N{HANGUL SYLLABLE SEONG}) missing from current font.\n",
      "  plt.tight_layout()\n",
      "C:\\Users\\hanseokhyun\\AppData\\Local\\Temp\\ipykernel_27040\\302322583.py:25: UserWarning: Glyph 50668 (\\N{HANGUL SYLLABLE YEO}) missing from current font.\n",
      "  plt.tight_layout()\n",
      "C:\\Users\\hanseokhyun\\AppData\\Local\\Temp\\ipykernel_27040\\302322583.py:25: UserWarning: Glyph 45824 (\\N{HANGUL SYLLABLE DAE}) missing from current font.\n",
      "  plt.tight_layout()\n",
      "C:\\Users\\hanseokhyun\\AppData\\Local\\Temp\\ipykernel_27040\\302322583.py:25: UserWarning: Glyph 51060 (\\N{HANGUL SYLLABLE I}) missing from current font.\n",
      "  plt.tight_layout()\n",
      "C:\\Users\\hanseokhyun\\AppData\\Local\\Temp\\ipykernel_27040\\302322583.py:25: UserWarning: Glyph 49345 (\\N{HANGUL SYLLABLE SANG}) missing from current font.\n",
      "  plt.tight_layout()\n",
      "C:\\Users\\hanseokhyun\\anaconda3\\Lib\\site-packages\\IPython\\core\\pylabtools.py:152: UserWarning: Glyph 45224 (\\N{HANGUL SYLLABLE NAM}) missing from current font.\n",
      "  fig.canvas.print_figure(bytes_io, **kw)\n",
      "C:\\Users\\hanseokhyun\\anaconda3\\Lib\\site-packages\\IPython\\core\\pylabtools.py:152: UserWarning: Glyph 49457 (\\N{HANGUL SYLLABLE SEONG}) missing from current font.\n",
      "  fig.canvas.print_figure(bytes_io, **kw)\n",
      "C:\\Users\\hanseokhyun\\anaconda3\\Lib\\site-packages\\IPython\\core\\pylabtools.py:152: UserWarning: Glyph 50668 (\\N{HANGUL SYLLABLE YEO}) missing from current font.\n",
      "  fig.canvas.print_figure(bytes_io, **kw)\n",
      "C:\\Users\\hanseokhyun\\anaconda3\\Lib\\site-packages\\IPython\\core\\pylabtools.py:152: UserWarning: Glyph 45824 (\\N{HANGUL SYLLABLE DAE}) missing from current font.\n",
      "  fig.canvas.print_figure(bytes_io, **kw)\n",
      "C:\\Users\\hanseokhyun\\anaconda3\\Lib\\site-packages\\IPython\\core\\pylabtools.py:152: UserWarning: Glyph 51060 (\\N{HANGUL SYLLABLE I}) missing from current font.\n",
      "  fig.canvas.print_figure(bytes_io, **kw)\n",
      "C:\\Users\\hanseokhyun\\anaconda3\\Lib\\site-packages\\IPython\\core\\pylabtools.py:152: UserWarning: Glyph 49345 (\\N{HANGUL SYLLABLE SANG}) missing from current font.\n",
      "  fig.canvas.print_figure(bytes_io, **kw)\n"
     ]
    },
    {
     "data": {
      "image/png": "[encoded data removed]",
      "text/plain": [
       "<Figure size 1400x600 with 2 Axes>"
      ]
     },
     "metadata": {},
     "output_type": "display_data"
    }
   ],
   "source": [
    "# 년도 정보에서 연도만 추출하여 새로운 열('Year')을 생성합니다.\n",
    "df_users['Year'] = df_sales_raw['SalesDate'].apply(lambda date: date.year)\n",
    "\n",
    "# 연도별 총 매출액을 계산합니다.\n",
    "df_yearly_sales = df_users.groupby(['Gender', 'AgeGroup', 'Year'])['TotalPrice'].sum().reset_index()\n",
    "\n",
    "# 남성과 여성, 연령대별로 2021년과 2022년의 총 매출액을 추출합니다.\n",
    "df_2021_sales = df_yearly_sales[(df_yearly_sales['Year'] == 2021)].groupby(['Gender', 'AgeGroup'])['TotalPrice'].sum().reset_index()\n",
    "df_2022_sales = df_yearly_sales[(df_yearly_sales['Year'] == 2022)].groupby(['Gender', 'AgeGroup'])['TotalPrice'].sum().reset_index()\n",
    "\n",
    "# 그래프를 그립니다.\n",
    "sns.set_style(\"whitegrid\")\n",
    "fig, axes = plt.subplots(nrows=1, ncols=2, figsize=(14, 6))\n",
    "\n",
    "# 2021년 총 매출액 그래프\n",
    "sns.barplot(data=df_2021_sales, x=\"Gender\", y=\"TotalPrice\", hue=\"AgeGroup\", ax=axes[0])\n",
    "axes[0].set_title(\"2021 Yearly Sales\")\n",
    "axes[0].set_ylabel(\"Total Sales\")\n",
    "axes[0].set_ylim([0, 200000000])\n",
    "# 2022년 총 매출액 그래프\n",
    "sns.barplot(data=df_2022_sales, x=\"Gender\", y=\"TotalPrice\", hue=\"AgeGroup\", ax=axes[1])\n",
    "axes[1].set_title(\"2022 Yearly Sales\")\n",
    "axes[1].set_ylabel(\"Total Sales\")\n",
    "axes[1].set_ylim([0, 200000000])\n",
    "plt.tight_layout()\n",
    "plt.show()"
   ]
  },
  {
   "cell_type": "code",
   "execution_count": 46,
   "id": "9ce4345b-9a6a-4adb-968d-b427de653e88",
   "metadata": {
    "tags": []
   },
   "outputs": [],
   "source": [
    "# 2020년도와 2021년도의 평균 매출액 차이이다. 매출액이 오늘이유에 대한 데이터 분석이 본격적으로 가능 해졌다고 생각한다."
   ]
  },
  {
   "cell_type": "code",
   "execution_count": 47,
   "id": "1fe6dea2-4a3e-4bad-9f06-9c28ac266541",
   "metadata": {
    "tags": []
   },
   "outputs": [
    {
     "name": "stderr",
     "output_type": "stream",
     "text": [
      "C:\\Users\\hanseokhyun\\AppData\\Local\\Temp\\ipykernel_27040\\2205481180.py:27: UserWarning: Glyph 45824 (\\N{HANGUL SYLLABLE DAE}) missing from current font.\n",
      "  plt.tight_layout()\n",
      "C:\\Users\\hanseokhyun\\AppData\\Local\\Temp\\ipykernel_27040\\2205481180.py:27: UserWarning: Glyph 51060 (\\N{HANGUL SYLLABLE I}) missing from current font.\n",
      "  plt.tight_layout()\n",
      "C:\\Users\\hanseokhyun\\AppData\\Local\\Temp\\ipykernel_27040\\2205481180.py:27: UserWarning: Glyph 49345 (\\N{HANGUL SYLLABLE SANG}) missing from current font.\n",
      "  plt.tight_layout()\n",
      "posx and posy should be finite values\n",
      "posx and posy should be finite values\n",
      "posx and posy should be finite values\n",
      "posx and posy should be finite values\n",
      "posx and posy should be finite values\n",
      "posx and posy should be finite values\n",
      "posx and posy should be finite values\n",
      "posx and posy should be finite values\n",
      "posx and posy should be finite values\n",
      "posx and posy should be finite values\n",
      "posx and posy should be finite values\n",
      "posx and posy should be finite values\n",
      "posx and posy should be finite values\n",
      "posx and posy should be finite values\n",
      "posx and posy should be finite values\n",
      "posx and posy should be finite values\n",
      "posx and posy should be finite values\n",
      "posx and posy should be finite values\n",
      "posx and posy should be finite values\n",
      "posx and posy should be finite values\n",
      "posx and posy should be finite values\n",
      "posx and posy should be finite values\n",
      "posx and posy should be finite values\n",
      "posx and posy should be finite values\n",
      "posx and posy should be finite values\n",
      "posx and posy should be finite values\n",
      "posx and posy should be finite values\n",
      "posx and posy should be finite values\n",
      "posx and posy should be finite values\n",
      "posx and posy should be finite values\n",
      "posx and posy should be finite values\n",
      "posx and posy should be finite values\n",
      "posx and posy should be finite values\n",
      "posx and posy should be finite values\n",
      "posx and posy should be finite values\n",
      "posx and posy should be finite values\n",
      "posx and posy should be finite values\n",
      "posx and posy should be finite values\n",
      "posx and posy should be finite values\n",
      "posx and posy should be finite values\n",
      "posx and posy should be finite values\n",
      "posx and posy should be finite values\n",
      "posx and posy should be finite values\n",
      "posx and posy should be finite values\n",
      "posx and posy should be finite values\n",
      "posx and posy should be finite values\n",
      "posx and posy should be finite values\n",
      "posx and posy should be finite values\n",
      "posx and posy should be finite values\n",
      "posx and posy should be finite values\n",
      "posx and posy should be finite values\n",
      "posx and posy should be finite values\n",
      "posx and posy should be finite values\n",
      "posx and posy should be finite values\n",
      "posx and posy should be finite values\n",
      "posx and posy should be finite values\n",
      "posx and posy should be finite values\n",
      "posx and posy should be finite values\n",
      "posx and posy should be finite values\n",
      "posx and posy should be finite values\n",
      "C:\\Users\\hanseokhyun\\anaconda3\\Lib\\site-packages\\IPython\\core\\pylabtools.py:152: UserWarning: Glyph 45824 (\\N{HANGUL SYLLABLE DAE}) missing from current font.\n",
      "  fig.canvas.print_figure(bytes_io, **kw)\n",
      "C:\\Users\\hanseokhyun\\anaconda3\\Lib\\site-packages\\IPython\\core\\pylabtools.py:152: UserWarning: Glyph 51060 (\\N{HANGUL SYLLABLE I}) missing from current font.\n",
      "  fig.canvas.print_figure(bytes_io, **kw)\n",
      "C:\\Users\\hanseokhyun\\anaconda3\\Lib\\site-packages\\IPython\\core\\pylabtools.py:152: UserWarning: Glyph 49345 (\\N{HANGUL SYLLABLE SANG}) missing from current font.\n",
      "  fig.canvas.print_figure(bytes_io, **kw)\n",
      "posx and posy should be finite values\n",
      "posx and posy should be finite values\n",
      "posx and posy should be finite values\n",
      "posx and posy should be finite values\n",
      "posx and posy should be finite values\n",
      "posx and posy should be finite values\n",
      "posx and posy should be finite values\n",
      "posx and posy should be finite values\n",
      "posx and posy should be finite values\n",
      "posx and posy should be finite values\n",
      "posx and posy should be finite values\n",
      "posx and posy should be finite values\n",
      "posx and posy should be finite values\n",
      "posx and posy should be finite values\n",
      "posx and posy should be finite values\n",
      "posx and posy should be finite values\n",
      "posx and posy should be finite values\n",
      "posx and posy should be finite values\n",
      "posx and posy should be finite values\n",
      "posx and posy should be finite values\n",
      "posx and posy should be finite values\n",
      "posx and posy should be finite values\n",
      "posx and posy should be finite values\n",
      "posx and posy should be finite values\n",
      "posx and posy should be finite values\n",
      "posx and posy should be finite values\n",
      "posx and posy should be finite values\n",
      "posx and posy should be finite values\n",
      "posx and posy should be finite values\n",
      "posx and posy should be finite values\n",
      "posx and posy should be finite values\n",
      "posx and posy should be finite values\n",
      "posx and posy should be finite values\n",
      "posx and posy should be finite values\n",
      "posx and posy should be finite values\n",
      "posx and posy should be finite values\n",
      "posx and posy should be finite values\n",
      "posx and posy should be finite values\n",
      "posx and posy should be finite values\n",
      "posx and posy should be finite values\n",
      "posx and posy should be finite values\n",
      "posx and posy should be finite values\n",
      "posx and posy should be finite values\n",
      "posx and posy should be finite values\n",
      "posx and posy should be finite values\n",
      "posx and posy should be finite values\n",
      "posx and posy should be finite values\n",
      "posx and posy should be finite values\n",
      "posx and posy should be finite values\n",
      "posx and posy should be finite values\n",
      "posx and posy should be finite values\n",
      "posx and posy should be finite values\n",
      "posx and posy should be finite values\n",
      "posx and posy should be finite values\n",
      "posx and posy should be finite values\n",
      "posx and posy should be finite values\n",
      "posx and posy should be finite values\n",
      "posx and posy should be finite values\n",
      "posx and posy should be finite values\n",
      "posx and posy should be finite values\n"
     ]
    },
    {
     "data": {
      "image/png": "[encoded data removed]",
      "text/plain": [
       "<Figure size 1400x600 with 2 Axes>"
      ]
     },
     "metadata": {},
     "output_type": "display_data"
    }
   ],
   "source": [
    "df_sales_raw['Year'] = df_sales_raw['SalesDate'].apply(lambda date: date.year)\n",
    "\n",
    "df_yearly_sales = df_users.groupby([ 'AgeGroup', 'Year'])['Gender'].count().reset_index()\n",
    "\n",
    "df_2021_sales = df_yearly_sales[(df_yearly_sales['Year'] == 2021)].groupby([ 'AgeGroup'])['Gender'].sum().reset_index()\n",
    "df_2022_sales = df_yearly_sales[(df_yearly_sales['Year'] == 2022)].groupby(['AgeGroup'])['Gender'].sum().reset_index()\n",
    "\n",
    "sns.set_style(\"whitegrid\")\n",
    "fig, axes = plt.subplots(nrows=1, ncols=2, figsize=(14, 6))\n",
    "\n",
    "sns.barplot(data=df_2021_sales, x=\"AgeGroup\", y=\"Gender\", hue=\"AgeGroup\", ax=axes[0])\n",
    "axes[0].set_title(\"2021 Yearly people\")\n",
    "axes[0].set_ylabel(\"counts\")\n",
    "axes[0].set_ylim([0, 150])\n",
    "\n",
    "sns.barplot(data=df_2022_sales, x=\"AgeGroup\", y=\"Gender\", hue=\"AgeGroup\", ax=axes[1])\n",
    "axes[1].set_title(\"2022 Yearly people\")\n",
    "axes[1].set_ylabel(\"counts\")\n",
    "axes[1].set_ylim([0, 150])\n",
    "\n",
    "# 막대 위에 수치 표시\n",
    "for i, ax in enumerate(axes.flatten()):\n",
    "    for p in ax.patches:\n",
    "        height = p.get_height()\n",
    "        ax.text(p.get_x() + p.get_width()/2., height + 2, f'{height:.0f}', ha=\"center\", fontsize=10)\n",
    "\n",
    "plt.tight_layout()\n",
    "plt.show()"
   ]
  },
  {
   "cell_type": "code",
   "execution_count": 48,
   "id": "d1511fa2-e6eb-4e51-8644-c0dd4dce3697",
   "metadata": {
    "tags": []
   },
   "outputs": [],
   "source": [
    "# 2020 년도와 2021년도의 고객수 차이이다. 40대가 9명 밖에 오르지 않았지만, 매출액이 많이 오른것이 시사 할 점이다."
   ]
  },
  {
   "cell_type": "code",
   "execution_count": 49,
   "id": "61397873-861b-4cb7-962d-146d5c22349d",
   "metadata": {},
   "outputs": [],
   "source": [
    "# # 해야 할 일\n",
    "# 1, 고객의 등급화 기준 정해서 파생 변수 만들기\n",
    "# 2, 2020년도의 정보만을 담은 csv 파일 2021만 들어있는 csv 파일을 따로 만드는것이 필요해 보인다.\n",
    "# 3, 시계열을 써야 할것 같은데 한석현은 잘 몰라서 못하곘음 ㅎㅎ 쏘리\n",
    "# 4, 시계열 그래프 시각화를 통해서 날씨 데이터를 받아와야 유의미한 날씨 경영이 될것으로 보임"
   ]
  },
  {
   "cell_type": "code",
   "execution_count": 61,
   "id": "2fc6928c-d9d1-43b5-8362-c8015135e4e7",
   "metadata": {
    "tags": []
   },
   "outputs": [],
   "source": [
    "df_2021_sales_raw = []\n",
    "df_2022_sales_raw = []"
   ]
  },
  {
   "cell_type": "code",
   "execution_count": 66,
   "id": "be85c050-2609-457f-8fee-853cad4f2e2c",
   "metadata": {},
   "outputs": [],
   "source": [
    "df_2021_sales_raw = df_sales_raw[df_sales_raw['Year'] == 2021]\n",
    "df_2022_sales_raw = df_sales_raw[df_sales_raw['Year'] == 2022]\n",
    "# df_2023_sales_raw = df_sales_raw[df_sales_raw['Year'] == 2023]"
   ]
  },
  {
   "cell_type": "code",
   "execution_count": 64,
   "id": "8684073b-319d-4669-97ac-d6c33e82d0d6",
   "metadata": {},
   "outputs": [
    {
     "name": "stdout",
     "output_type": "stream",
     "text": [
      "<class 'pandas.core.frame.DataFrame'>\n",
      "Int64Index: 241915 entries, 2 to 507223\n",
      "Data columns (total 16 columns):\n",
      " #   Column           Non-Null Count   Dtype         \n",
      "---  ------           --------------   -----         \n",
      " 0   idUser           241915 non-null  object        \n",
      " 1   idPOS            241915 non-null  object        \n",
      " 2   SalesDT          241915 non-null  datetime64[ns]\n",
      " 3   SalesDate        241915 non-null  datetime64[ns]\n",
      " 4   ItemId           241915 non-null  object        \n",
      " 5   Gender           241915 non-null  object        \n",
      " 6   AgeGroup         241915 non-null  object        \n",
      " 7   ItemIdLarge      241915 non-null  object        \n",
      " 8   ItemNameLarge    241915 non-null  object        \n",
      " 9   ItemIdMiddle     241915 non-null  object        \n",
      " 10  ItemNameMiddle   241915 non-null  object        \n",
      " 11  ItemName         241915 non-null  object        \n",
      " 12  Item_CatORMaker  241915 non-null  object        \n",
      " 13  Price            241915 non-null  int64         \n",
      " 14  ImageUrl         241915 non-null  object        \n",
      " 15  Year             241915 non-null  int64         \n",
      "dtypes: datetime64[ns](2), int64(2), object(12)\n",
      "memory usage: 31.4+ MB\n"
     ]
    }
   ],
   "source": [
    "df_2021_sales_raw.info()"
   ]
  },
  {
   "cell_type": "code",
   "execution_count": 65,
   "id": "f5c09419-a3a4-447e-b488-52c7ea901fce",
   "metadata": {
    "tags": []
   },
   "outputs": [
    {
     "data": {
      "text/html": [
       "<div>\n",
       "<style scoped>\n",
       "    .dataframe tbody tr th:only-of-type {\n",
       "        vertical-align: middle;\n",
       "    }\n",
       "\n",
       "    .dataframe tbody tr th {\n",
       "        vertical-align: top;\n",
       "    }\n",
       "\n",
       "    .dataframe thead th {\n",
       "        text-align: right;\n",
       "    }\n",
       "</style>\n",
       "<table border=\"1\" class=\"dataframe\">\n",
       "  <thead>\n",
       "    <tr style=\"text-align: right;\">\n",
       "      <th></th>\n",
       "      <th>idUser</th>\n",
       "      <th>idPOS</th>\n",
       "      <th>SalesDT</th>\n",
       "      <th>SalesDate</th>\n",
       "      <th>ItemId</th>\n",
       "      <th>Gender</th>\n",
       "      <th>AgeGroup</th>\n",
       "      <th>ItemIdLarge</th>\n",
       "      <th>ItemNameLarge</th>\n",
       "      <th>ItemIdMiddle</th>\n",
       "      <th>ItemNameMiddle</th>\n",
       "      <th>ItemName</th>\n",
       "      <th>Item_CatORMaker</th>\n",
       "      <th>Price</th>\n",
       "      <th>ImageUrl</th>\n",
       "      <th>Year</th>\n",
       "    </tr>\n",
       "  </thead>\n",
       "  <tbody>\n",
       "    <tr>\n",
       "      <th>0</th>\n",
       "      <td>U101097</td>\n",
       "      <td>POS2022-10267</td>\n",
       "      <td>2022-11-06 04:08:48</td>\n",
       "      <td>2022-11-06</td>\n",
       "      <td>I-8809802264069</td>\n",
       "      <td>남성</td>\n",
       "      <td>30대</td>\n",
       "      <td>L1</td>\n",
       "      <td>간편식사</td>\n",
       "      <td>M2</td>\n",
       "      <td>샌드위치</td>\n",
       "      <td>피)살라미마르게리따피자</td>\n",
       "      <td>피자</td>\n",
       "      <td>5500</td>\n",
       "      <td>https://tqklhszfkvzk6518638.cdn.ntruss.com/pro...</td>\n",
       "      <td>2022</td>\n",
       "    </tr>\n",
       "    <tr>\n",
       "      <th>1</th>\n",
       "      <td>U101094</td>\n",
       "      <td>POS2022-10233</td>\n",
       "      <td>2022-06-15 21:25:22</td>\n",
       "      <td>2022-06-15</td>\n",
       "      <td>I-8801068398441</td>\n",
       "      <td>남성</td>\n",
       "      <td>10대</td>\n",
       "      <td>L1</td>\n",
       "      <td>간편식사</td>\n",
       "      <td>M2</td>\n",
       "      <td>샌드위치</td>\n",
       "      <td>햄)메이플더블치즈버거</td>\n",
       "      <td>햄버거</td>\n",
       "      <td>3000</td>\n",
       "      <td>https://tqklhszfkvzk6518638.cdn.ntruss.com/pro...</td>\n",
       "      <td>2022</td>\n",
       "    </tr>\n",
       "    <tr>\n",
       "      <th>6</th>\n",
       "      <td>U101092</td>\n",
       "      <td>POS2022-10079</td>\n",
       "      <td>2022-04-27 22:00:29</td>\n",
       "      <td>2022-04-27</td>\n",
       "      <td>I-8809453263626</td>\n",
       "      <td>여성</td>\n",
       "      <td>20대</td>\n",
       "      <td>L1</td>\n",
       "      <td>간편식사</td>\n",
       "      <td>M3</td>\n",
       "      <td>주먹밥</td>\n",
       "      <td>주)소고기고추장</td>\n",
       "      <td>주먹밥</td>\n",
       "      <td>1000</td>\n",
       "      <td>https://tqklhszfkvzk6518638.cdn.ntruss.com/pro...</td>\n",
       "      <td>2022</td>\n",
       "    </tr>\n",
       "    <tr>\n",
       "      <th>7</th>\n",
       "      <td>U101070</td>\n",
       "      <td>POS2022-10178</td>\n",
       "      <td>2022-08-12 12:04:24</td>\n",
       "      <td>2022-08-12</td>\n",
       "      <td>I-8801068388664</td>\n",
       "      <td>여성</td>\n",
       "      <td>10대</td>\n",
       "      <td>L1</td>\n",
       "      <td>간편식사</td>\n",
       "      <td>M1</td>\n",
       "      <td>도시락</td>\n",
       "      <td>샐)흑임자치킨샐러드</td>\n",
       "      <td>샐러드</td>\n",
       "      <td>3500</td>\n",
       "      <td>https://tqklhszfkvzk6518638.cdn.ntruss.com/pro...</td>\n",
       "      <td>2022</td>\n",
       "    </tr>\n",
       "    <tr>\n",
       "      <th>9</th>\n",
       "      <td>U101094</td>\n",
       "      <td>POS2022-10078</td>\n",
       "      <td>2022-03-24 19:42:42</td>\n",
       "      <td>2022-03-24</td>\n",
       "      <td>I-8801068396300</td>\n",
       "      <td>남성</td>\n",
       "      <td>10대</td>\n",
       "      <td>L1</td>\n",
       "      <td>간편식사</td>\n",
       "      <td>M2</td>\n",
       "      <td>샌드위치</td>\n",
       "      <td>햄)모짜치즈볼트리플버거</td>\n",
       "      <td>햄버거</td>\n",
       "      <td>3400</td>\n",
       "      <td>https://tqklhszfkvzk6518638.cdn.ntruss.com/pro...</td>\n",
       "      <td>2022</td>\n",
       "    </tr>\n",
       "    <tr>\n",
       "      <th>...</th>\n",
       "      <td>...</td>\n",
       "      <td>...</td>\n",
       "      <td>...</td>\n",
       "      <td>...</td>\n",
       "      <td>...</td>\n",
       "      <td>...</td>\n",
       "      <td>...</td>\n",
       "      <td>...</td>\n",
       "      <td>...</td>\n",
       "      <td>...</td>\n",
       "      <td>...</td>\n",
       "      <td>...</td>\n",
       "      <td>...</td>\n",
       "      <td>...</td>\n",
       "      <td>...</td>\n",
       "      <td>...</td>\n",
       "    </tr>\n",
       "    <tr>\n",
       "      <th>507210</th>\n",
       "      <td>U101081</td>\n",
       "      <td>POS2022-10069</td>\n",
       "      <td>2022-04-18 08:45:48</td>\n",
       "      <td>2022-04-18</td>\n",
       "      <td>I-8808024031091</td>\n",
       "      <td>남성</td>\n",
       "      <td>20대</td>\n",
       "      <td>L6</td>\n",
       "      <td>음료</td>\n",
       "      <td>M2</td>\n",
       "      <td>아이스</td>\n",
       "      <td>22del)디카페인아메리카</td>\n",
       "      <td>22del</td>\n",
       "      <td>900</td>\n",
       "      <td>https://tqklhszfkvzk6518638.cdn.ntruss.com/pro...</td>\n",
       "      <td>2022</td>\n",
       "    </tr>\n",
       "    <tr>\n",
       "      <th>507214</th>\n",
       "      <td>U101065</td>\n",
       "      <td>POS2022-10218</td>\n",
       "      <td>2022-05-14 11:22:09</td>\n",
       "      <td>2022-05-14</td>\n",
       "      <td>I-8801155723750</td>\n",
       "      <td>남성</td>\n",
       "      <td>20대</td>\n",
       "      <td>L6</td>\n",
       "      <td>음료</td>\n",
       "      <td>M3</td>\n",
       "      <td>유제품</td>\n",
       "      <td>동원)그린덴마크귀리190m</td>\n",
       "      <td>동원</td>\n",
       "      <td>1200</td>\n",
       "      <td>https://tqklhszfkvzk6518638.cdn.ntruss.com/pro...</td>\n",
       "      <td>2022</td>\n",
       "    </tr>\n",
       "    <tr>\n",
       "      <th>507215</th>\n",
       "      <td>U101065</td>\n",
       "      <td>POS2022-10222</td>\n",
       "      <td>2022-05-17 20:34:21</td>\n",
       "      <td>2022-05-17</td>\n",
       "      <td>I-8801056228149</td>\n",
       "      <td>남성</td>\n",
       "      <td>20대</td>\n",
       "      <td>L6</td>\n",
       "      <td>음료</td>\n",
       "      <td>M2</td>\n",
       "      <td>아이스</td>\n",
       "      <td>롯데)칸타타바닐라아메23</td>\n",
       "      <td>롯데</td>\n",
       "      <td>1200</td>\n",
       "      <td>https://tqklhszfkvzk6518638.cdn.ntruss.com/pro...</td>\n",
       "      <td>2022</td>\n",
       "    </tr>\n",
       "    <tr>\n",
       "      <th>507218</th>\n",
       "      <td>U101065</td>\n",
       "      <td>POS2022-10273</td>\n",
       "      <td>2022-06-10 11:54:54</td>\n",
       "      <td>2022-06-10</td>\n",
       "      <td>I-8801105908367</td>\n",
       "      <td>남성</td>\n",
       "      <td>20대</td>\n",
       "      <td>L6</td>\n",
       "      <td>음료</td>\n",
       "      <td>M1</td>\n",
       "      <td>음료</td>\n",
       "      <td>해태)아침에사과P500ml</td>\n",
       "      <td>해태</td>\n",
       "      <td>1800</td>\n",
       "      <td>https://tqklhszfkvzk6518638.cdn.ntruss.com/pro...</td>\n",
       "      <td>2022</td>\n",
       "    </tr>\n",
       "    <tr>\n",
       "      <th>507219</th>\n",
       "      <td>U101065</td>\n",
       "      <td>POS2022-10420</td>\n",
       "      <td>2022-08-19 08:08:15</td>\n",
       "      <td>2022-08-19</td>\n",
       "      <td>I-8809350881183</td>\n",
       "      <td>남성</td>\n",
       "      <td>20대</td>\n",
       "      <td>L6</td>\n",
       "      <td>음료</td>\n",
       "      <td>M3</td>\n",
       "      <td>유제품</td>\n",
       "      <td>서울F&amp;B)흑임자우유250ml</td>\n",
       "      <td>서울F&amp;B</td>\n",
       "      <td>1800</td>\n",
       "      <td>https://tqklhszfkvzk6518638.cdn.ntruss.com/pro...</td>\n",
       "      <td>2022</td>\n",
       "    </tr>\n",
       "  </tbody>\n",
       "</table>\n",
       "<p>265309 rows × 16 columns</p>\n",
       "</div>"
      ],
      "text/plain": [
       "         idUser          idPOS             SalesDT  SalesDate  \\\n",
       "0       U101097  POS2022-10267 2022-11-06 04:08:48 2022-11-06   \n",
       "1       U101094  POS2022-10233 2022-06-15 21:25:22 2022-06-15   \n",
       "6       U101092  POS2022-10079 2022-04-27 22:00:29 2022-04-27   \n",
       "7       U101070  POS2022-10178 2022-08-12 12:04:24 2022-08-12   \n",
       "9       U101094  POS2022-10078 2022-03-24 19:42:42 2022-03-24   \n",
       "...         ...            ...                 ...        ...   \n",
       "507210  U101081  POS2022-10069 2022-04-18 08:45:48 2022-04-18   \n",
       "507214  U101065  POS2022-10218 2022-05-14 11:22:09 2022-05-14   \n",
       "507215  U101065  POS2022-10222 2022-05-17 20:34:21 2022-05-17   \n",
       "507218  U101065  POS2022-10273 2022-06-10 11:54:54 2022-06-10   \n",
       "507219  U101065  POS2022-10420 2022-08-19 08:08:15 2022-08-19   \n",
       "\n",
       "                 ItemId Gender AgeGroup ItemIdLarge ItemNameLarge  \\\n",
       "0       I-8809802264069     남성      30대          L1          간편식사   \n",
       "1       I-8801068398441     남성      10대          L1          간편식사   \n",
       "6       I-8809453263626     여성      20대          L1          간편식사   \n",
       "7       I-8801068388664     여성      10대          L1          간편식사   \n",
       "9       I-8801068396300     남성      10대          L1          간편식사   \n",
       "...                 ...    ...      ...         ...           ...   \n",
       "507210  I-8808024031091     남성      20대          L6            음료   \n",
       "507214  I-8801155723750     남성      20대          L6            음료   \n",
       "507215  I-8801056228149     남성      20대          L6            음료   \n",
       "507218  I-8801105908367     남성      20대          L6            음료   \n",
       "507219  I-8809350881183     남성      20대          L6            음료   \n",
       "\n",
       "       ItemIdMiddle ItemNameMiddle          ItemName Item_CatORMaker  Price  \\\n",
       "0                M2           샌드위치      피)살라미마르게리따피자              피자   5500   \n",
       "1                M2           샌드위치       햄)메이플더블치즈버거             햄버거   3000   \n",
       "6                M3            주먹밥          주)소고기고추장             주먹밥   1000   \n",
       "7                M1            도시락        샐)흑임자치킨샐러드             샐러드   3500   \n",
       "9                M2           샌드위치      햄)모짜치즈볼트리플버거             햄버거   3400   \n",
       "...             ...            ...               ...             ...    ...   \n",
       "507210           M2            아이스    22del)디카페인아메리카           22del    900   \n",
       "507214           M3            유제품    동원)그린덴마크귀리190m              동원   1200   \n",
       "507215           M2            아이스     롯데)칸타타바닐라아메23              롯데   1200   \n",
       "507218           M1             음료    해태)아침에사과P500ml              해태   1800   \n",
       "507219           M3            유제품  서울F&B)흑임자우유250ml           서울F&B   1800   \n",
       "\n",
       "                                                 ImageUrl  Year  \n",
       "0       https://tqklhszfkvzk6518638.cdn.ntruss.com/pro...  2022  \n",
       "1       https://tqklhszfkvzk6518638.cdn.ntruss.com/pro...  2022  \n",
       "6       https://tqklhszfkvzk6518638.cdn.ntruss.com/pro...  2022  \n",
       "7       https://tqklhszfkvzk6518638.cdn.ntruss.com/pro...  2022  \n",
       "9       https://tqklhszfkvzk6518638.cdn.ntruss.com/pro...  2022  \n",
       "...                                                   ...   ...  \n",
       "507210  https://tqklhszfkvzk6518638.cdn.ntruss.com/pro...  2022  \n",
       "507214  https://tqklhszfkvzk6518638.cdn.ntruss.com/pro...  2022  \n",
       "507215  https://tqklhszfkvzk6518638.cdn.ntruss.com/pro...  2022  \n",
       "507218  https://tqklhszfkvzk6518638.cdn.ntruss.com/pro...  2022  \n",
       "507219  https://tqklhszfkvzk6518638.cdn.ntruss.com/pro...  2022  \n",
       "\n",
       "[265309 rows x 16 columns]"
      ]
     },
     "execution_count": 65,
     "metadata": {},
     "output_type": "execute_result"
    }
   ],
   "source": [
    "df_2022_sales_raw"
   ]
  },
  {
   "cell_type": "markdown",
   "id": "454e16b3-0e63-4f96-8eab-a7da51789c40",
   "metadata": {},
   "source": [
    "# 아으 배고파"
   ]
  },
  {
   "cell_type": "code",
   "execution_count": null,
   "id": "3e3f6e22-ca8b-4909-938e-b94b9f06afa6",
   "metadata": {},
   "outputs": [],
   "source": []
  }
 ],
 "metadata": {
  "kernelspec": {
   "display_name": "Python 3 (ipykernel)",
   "language": "python",
   "name": "python3"
  },
  "language_info": {
   "codemirror_mode": {
    "name": "ipython",
    "version": 3
   },
   "file_extension": ".py",
   "mimetype": "text/x-python",
   "name": "python",
   "nbconvert_exporter": "python",
   "pygments_lexer": "ipython3",
   "version": "3.11.3"
  }
 },
 "nbformat": 4,
 "nbformat_minor": 5
}
