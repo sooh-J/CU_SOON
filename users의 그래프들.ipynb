{
 "cells": [
  {
   "cell_type": "code",
   "execution_count": 1,
   "id": "c56ea2d4-4cee-4523-bfac-21b413139155",
   "metadata": {
    "tags": []
   },
   "outputs": [],
   "source": [
    "import numpy as np\n",
    "import pandas as pd\n",
    "import matplotlib.pyplot as plt\n",
    "from matplotlib import rc\n",
    "import seaborn as sns\n",
    "import statsmodels.api as sm\n",
    "\n",
    "\n",
    "\n",
    "from sklearn import metrics\n",
    "from sklearn.preprocessing import StandardScaler\n",
    "from sklearn.cluster import KMeans, DBSCAN\n",
    "from sklearn.svm import SVC\n",
    "from sklearn.metrics import f1_score\n",
    "from scipy.cluster.hierarchy import linkage, dendrogram, fcluster\n",
    "from scipy import stats\n",
    "\n",
    "from sklearn.model_selection import train_test_split, GridSearchCV\n",
    "from sklearn.preprocessing import StandardScaler, scale\n",
    "from sklearn.decomposition import PCA\n",
    "from sklearn.tree import DecisionTreeClassifier\n",
    "from sklearn.ensemble import RandomForestClassifier\n",
    "from sklearn.ensemble import GradientBoostingClassifier\n",
    "from statsmodels.api import Logit\n",
    "\n",
    "from sklearn.metrics import accuracy_score, f1_score\n",
    "from sklearn.metrics import confusion_matrix, classification_report\n",
    "from statsmodels.api import qqplot\n",
    "from statsmodels.api import add_constant\n",
    "# 분류 Decision Tree\n",
    "from sklearn.tree import DecisionTreeClassifier\n",
    "# 분류 Random Forest\n",
    "from sklearn.ensemble import RandomForestClassifier\n",
    "# 분류 Gradient Boosting \n",
    "from sklearn.ensemble import GradientBoostingClassifier\n",
    "# 분류 NN (MLPClassifier)\n",
    "from sklearn.neural_network import MLPClassifier\n",
    "\n",
    "# 모델 성능 평가: Precision, Recall, F1 Score, ROC Curve, AUC\n",
    "from sklearn.metrics import precision_score, recall_score, f1_score, roc_curve, auc\n",
    "from sklearn.metrics import confusion_matrix, classification_report\n",
    "from matplotlib import font_manager\n",
    "from matplotlib import rc\n",
    "\n",
    "\n",
    "# Check the Frequency of Variable\n",
    "from collections import Counter\n",
    "%matplotlib inline\n",
    "rc('font', family='NanumGothic')\n",
    "plt.rcParams['axes.unicode_minus'] = False  ## 추가해줍니다. \n"
   ]
  },
  {
   "cell_type": "markdown",
   "id": "e9da81f7-50a8-4fd9-978b-faa986d0309c",
   "metadata": {},
   "source": [
    "# 데이터 확인"
   ]
  },
  {
   "cell_type": "code",
   "execution_count": 2,
   "id": "39e3a1f3-40a1-4fb3-9a78-e1e6009d49cd",
   "metadata": {
    "scrolled": true,
    "tags": []
   },
   "outputs": [
    {
     "data": {
      "text/html": [
       "<div>\n",
       "<style scoped>\n",
       "    .dataframe tbody tr th:only-of-type {\n",
       "        vertical-align: middle;\n",
       "    }\n",
       "\n",
       "    .dataframe tbody tr th {\n",
       "        vertical-align: top;\n",
       "    }\n",
       "\n",
       "    .dataframe thead th {\n",
       "        text-align: right;\n",
       "    }\n",
       "</style>\n",
       "<table border=\"1\" class=\"dataframe\">\n",
       "  <thead>\n",
       "    <tr style=\"text-align: right;\">\n",
       "      <th></th>\n",
       "      <th>idUser</th>\n",
       "      <th>Gender</th>\n",
       "      <th>AgeGroup</th>\n",
       "    </tr>\n",
       "  </thead>\n",
       "  <tbody>\n",
       "    <tr>\n",
       "      <th>0</th>\n",
       "      <td>U100001</td>\n",
       "      <td>남성</td>\n",
       "      <td>40대</td>\n",
       "    </tr>\n",
       "    <tr>\n",
       "      <th>1</th>\n",
       "      <td>U100002</td>\n",
       "      <td>여성</td>\n",
       "      <td>30대</td>\n",
       "    </tr>\n",
       "    <tr>\n",
       "      <th>2</th>\n",
       "      <td>U100003</td>\n",
       "      <td>남성</td>\n",
       "      <td>30대</td>\n",
       "    </tr>\n",
       "    <tr>\n",
       "      <th>3</th>\n",
       "      <td>U100004</td>\n",
       "      <td>남성</td>\n",
       "      <td>30대</td>\n",
       "    </tr>\n",
       "    <tr>\n",
       "      <th>4</th>\n",
       "      <td>U100005</td>\n",
       "      <td>여성</td>\n",
       "      <td>30대</td>\n",
       "    </tr>\n",
       "  </tbody>\n",
       "</table>\n",
       "</div>"
      ],
      "text/plain": [
       "    idUser Gender AgeGroup\n",
       "0  U100001     남성      40대\n",
       "1  U100002     여성      30대\n",
       "2  U100003     남성      30대\n",
       "3  U100004     남성      30대\n",
       "4  U100005     여성      30대"
      ]
     },
     "execution_count": 2,
     "metadata": {},
     "output_type": "execute_result"
    }
   ],
   "source": [
    "df_users_raw = pd.read_csv('C:/Users/hanseokhyun/Desktop/빅데이터 프로젝트/cvs_users.csv', encoding=\"cp949\")\n",
    "df_users_raw.head()"
   ]
  },
  {
   "cell_type": "code",
   "execution_count": 3,
   "id": "4d2ec7fb-1049-4c13-89d3-0c12701c0d3b",
   "metadata": {
    "tags": []
   },
   "outputs": [
    {
     "name": "stdout",
     "output_type": "stream",
     "text": [
      "<class 'pandas.core.frame.DataFrame'>\n",
      "RangeIndex: 1098 entries, 0 to 1097\n",
      "Data columns (total 3 columns):\n",
      " #   Column    Non-Null Count  Dtype \n",
      "---  ------    --------------  ----- \n",
      " 0   idUser    1098 non-null   object\n",
      " 1   Gender    1098 non-null   object\n",
      " 2   AgeGroup  1098 non-null   object\n",
      "dtypes: object(3)\n",
      "memory usage: 25.9+ KB\n"
     ]
    }
   ],
   "source": [
    "df_users_raw.info()"
   ]
  },
  {
   "cell_type": "code",
   "execution_count": 4,
   "id": "91444daf-6075-492c-b286-32d7fa3fa050",
   "metadata": {
    "tags": []
   },
   "outputs": [
    {
     "data": {
      "text/plain": [
       "idUser      0\n",
       "Gender      0\n",
       "AgeGroup    0\n",
       "dtype: int64"
      ]
     },
     "execution_count": 4,
     "metadata": {},
     "output_type": "execute_result"
    }
   ],
   "source": [
    "df_users_raw.isnull().sum()"
   ]
  },
  {
   "cell_type": "markdown",
   "id": "95ff10e9-1d6a-4b84-8bd4-ff4d29cf25c6",
   "metadata": {},
   "source": [
    "결측치는 존재하지 않는다."
   ]
  },
  {
   "cell_type": "code",
   "execution_count": 5,
   "id": "a4121a53-5b80-468f-b7ed-2fdcbe484869",
   "metadata": {
    "tags": []
   },
   "outputs": [
    {
     "data": {
      "text/html": [
       "<div>\n",
       "<style scoped>\n",
       "    .dataframe tbody tr th:only-of-type {\n",
       "        vertical-align: middle;\n",
       "    }\n",
       "\n",
       "    .dataframe tbody tr th {\n",
       "        vertical-align: top;\n",
       "    }\n",
       "\n",
       "    .dataframe thead th {\n",
       "        text-align: right;\n",
       "    }\n",
       "</style>\n",
       "<table border=\"1\" class=\"dataframe\">\n",
       "  <thead>\n",
       "    <tr style=\"text-align: right;\">\n",
       "      <th></th>\n",
       "      <th>idUser</th>\n",
       "      <th>Gender</th>\n",
       "      <th>AgeGroup</th>\n",
       "    </tr>\n",
       "  </thead>\n",
       "  <tbody>\n",
       "    <tr>\n",
       "      <th>count</th>\n",
       "      <td>1098</td>\n",
       "      <td>1098</td>\n",
       "      <td>1098</td>\n",
       "    </tr>\n",
       "    <tr>\n",
       "      <th>unique</th>\n",
       "      <td>1098</td>\n",
       "      <td>2</td>\n",
       "      <td>6</td>\n",
       "    </tr>\n",
       "    <tr>\n",
       "      <th>top</th>\n",
       "      <td>U100001</td>\n",
       "      <td>남성</td>\n",
       "      <td>30대</td>\n",
       "    </tr>\n",
       "    <tr>\n",
       "      <th>freq</th>\n",
       "      <td>1</td>\n",
       "      <td>731</td>\n",
       "      <td>352</td>\n",
       "    </tr>\n",
       "  </tbody>\n",
       "</table>\n",
       "</div>"
      ],
      "text/plain": [
       "         idUser Gender AgeGroup\n",
       "count      1098   1098     1098\n",
       "unique     1098      2        6\n",
       "top     U100001     남성      30대\n",
       "freq          1    731      352"
      ]
     },
     "execution_count": 5,
     "metadata": {},
     "output_type": "execute_result"
    }
   ],
   "source": [
    "df_users_raw.describe()"
   ]
  },
  {
   "cell_type": "markdown",
   "id": "2434ce47-9424-4324-b25c-72000dee3680",
   "metadata": {},
   "source": [
    "idUser에는 모두 다른 값이 들어있고 총 1098명의 User가 있다.\n",
    "\n",
    "Gender는 남성 여성이 있고, 남성은 731명/ 여성은 368명이 있다.\n",
    "\n",
    "Agegroup은 총 6개(10대, 20대, 30대, 40대, 50대, 60대이상)가 있고, 30대가 352명으로 가장 많다."
   ]
  },
  {
   "cell_type": "code",
   "execution_count": 6,
   "id": "9314c0ec-ab66-4047-a2f6-a431d225d86c",
   "metadata": {
    "scrolled": true,
    "tags": []
   },
   "outputs": [
    {
     "name": "stdout",
     "output_type": "stream",
     "text": [
      "Gender\n",
      "남성    731\n",
      "여성    367\n",
      "dtype: int64\n",
      "\n",
      "AgeGroup\n",
      "10대       69\n",
      "20대      295\n",
      "30대      352\n",
      "40대      222\n",
      "50대      126\n",
      "60대이상     34\n",
      "dtype: int64\n",
      "\n",
      "Gender  AgeGroup\n",
      "남성      10대          51\n",
      "        20대         200\n",
      "        30대         230\n",
      "        40대         142\n",
      "        50대          85\n",
      "        60대이상        23\n",
      "여성      10대          18\n",
      "        20대          95\n",
      "        30대         122\n",
      "        40대          80\n",
      "        50대          41\n",
      "        60대이상        11\n",
      "dtype: int64\n"
     ]
    }
   ],
   "source": [
    "print(df_users_raw.groupby(\"Gender\").size())\n",
    "print()\n",
    "print(df_users_raw.groupby(\"AgeGroup\").size())\n",
    "print()\n",
    "print(df_users_raw.groupby([\"Gender\", \"AgeGroup\"]).size())"
   ]
  },
  {
   "cell_type": "markdown",
   "id": "f62ed446-4688-45ee-9aad-891f6bbceca6",
   "metadata": {},
   "source": [
    "# 그래프 그리기"
   ]
  },
  {
   "cell_type": "markdown",
   "id": "18b94547-3ae6-4aa1-b58f-5f2fb1eaf336",
   "metadata": {},
   "source": [
    "# Users 데이터에 파생변수 생성: 방문 횟수, 구매 금액"
   ]
  },
  {
   "cell_type": "code",
   "execution_count": 7,
   "id": "6fb20432-65fa-471f-a65b-7244426a0fdc",
   "metadata": {
    "tags": []
   },
   "outputs": [],
   "source": [
    "df_sales_raw = pd.read_csv('C:/Users/hanseokhyun/Desktop/빅데이터 프로젝트/result.csv')"
   ]
  },
  {
   "cell_type": "code",
   "execution_count": 8,
   "id": "278073d9-9b62-49df-9815-c21384030638",
   "metadata": {
    "tags": []
   },
   "outputs": [
    {
     "name": "stdout",
     "output_type": "stream",
     "text": [
      "<class 'pandas.core.frame.DataFrame'>\n",
      "RangeIndex: 509300 entries, 0 to 509299\n",
      "Data columns (total 15 columns):\n",
      " #   Column           Non-Null Count   Dtype \n",
      "---  ------           --------------   ----- \n",
      " 0   idUser           509300 non-null  object\n",
      " 1   idPOS            509300 non-null  object\n",
      " 2   SalesDT          509300 non-null  object\n",
      " 3   SalesDate        509300 non-null  object\n",
      " 4   ItemId           509300 non-null  object\n",
      " 5   Gender           509300 non-null  object\n",
      " 6   AgeGroup         509300 non-null  object\n",
      " 7   ItemIdLarge      509300 non-null  object\n",
      " 8   ItemNameLarge    509300 non-null  object\n",
      " 9   ItemIdMiddle     509300 non-null  object\n",
      " 10  ItemNameMiddle   509300 non-null  object\n",
      " 11  ItemName         509300 non-null  object\n",
      " 12  Item_CatORMaker  507224 non-null  object\n",
      " 13  Price            509300 non-null  int64 \n",
      " 14  ImageUrl         509300 non-null  object\n",
      "dtypes: int64(1), object(14)\n",
      "memory usage: 58.3+ MB\n"
     ]
    }
   ],
   "source": [
    "df_sales_raw.info()"
   ]
  },
  {
   "cell_type": "code",
   "execution_count": 10,
   "id": "d222f3c1-c52e-4072-9949-dd3be6b89832",
   "metadata": {
    "tags": []
   },
   "outputs": [],
   "source": [
    "df_sales_raw.dropna(subset=['Item_CatORMaker'], inplace=True)"
   ]
  },
  {
   "cell_type": "code",
   "execution_count": 11,
   "id": "e82235fb-5634-4136-975f-c76c4393b8b1",
   "metadata": {
    "tags": []
   },
   "outputs": [],
   "source": [
    "# 아이템에 해당하는 중분류와 가격이 일치 하지 않기에 이상치라 판단하고 삭제 처리 하였다."
   ]
  },
  {
   "cell_type": "code",
   "execution_count": 12,
   "id": "6f6b0975-c4cf-42e7-9568-649ef3074e40",
   "metadata": {
    "tags": []
   },
   "outputs": [],
   "source": [
    "df_sales_raw.reset_index(drop=True, inplace=True)"
   ]
  },
  {
   "cell_type": "code",
   "execution_count": 13,
   "id": "33403f2a-75b1-4bda-952b-b392c5832a17",
   "metadata": {
    "tags": []
   },
   "outputs": [],
   "source": [
    "# 인데스 초기화"
   ]
  },
  {
   "cell_type": "code",
   "execution_count": 14,
   "id": "46e408be-c395-4f02-ad10-7112c8dc7cd2",
   "metadata": {
    "tags": []
   },
   "outputs": [],
   "source": [
    "#사용자 정의 함수\n",
    "#data: 사용할 데이터\n",
    "#x: x축에 들어갈 열 이름\n",
    "#hue: 구분하는 기준\n",
    "#x_order: x축에 들어가는 데이터 순서\n",
    "#hue_order: hue에 들어가는 데이터 순서\n",
    "\n",
    "def print_barplot(data, x, hue=None, x_order=None, hue_order=None):\n",
    "    sns.countplot(x=x, hue=hue, data=data, dodge=True, order=x_order, hue_order=hue_order)\n",
    "    \n",
    "    plt.title(\"Count Plot of Categorical Variables\")\n",
    "    plt.xlabel(\"{}\".format(x))\n",
    "    plt.ylabel(\"Frequency\")\n",
    "\n",
    "    # 범례 추가\n",
    "    plt.legend()\n",
    "\n",
    "    # 그래프 보여주기\n",
    "    plt.show()\n",
    "\n",
    "age_order = ['10대', '20대', '30대', '40대', '50대', '60대이상']\n",
    "gender_order = ['남성', '여성']  # 성별 순서"
   ]
  },
  {
   "cell_type": "code",
   "execution_count": 15,
   "id": "1d0fad2a-a9a3-44be-a3a9-3e33f76ab5cf",
   "metadata": {
    "tags": []
   },
   "outputs": [],
   "source": [
    "# #df_users: df_users_raw에 파생변수 VisitCount(방문 횟수), TotalPrice(구매 금액) 추가한 데이터프레임\n",
    "\n",
    "# visit_counts = df_sales_raw[\"idUser\"].value_counts()\n",
    "# df_users = df_users_raw.merge(visit_counts, left_on=\"idUser\", right_index=True, how=\"left\")\n",
    "# df_users.rename(columns={\"idUser_y\": \"VisitCount\"}, inplace=True)\n",
    "# df_users.rename(columns={\"idUser_x\": \"idUser\"}, inplace=True)\n",
    "\n",
    "# total_prices = df_sales_raw.groupby(\"idUser\")[\"Price\"].sum()\n",
    "# df_users[\"TotalPrice\"] = df_users[\"idUser\"].map(total_prices)\n",
    "\n",
    "# display(df_users)"
   ]
  },
  {
   "cell_type": "code",
   "execution_count": 16,
   "id": "72ee954c-cc7b-4e60-b564-3f90f8e5d669",
   "metadata": {
    "tags": []
   },
   "outputs": [],
   "source": [
    "# 이거 방문 횟수가 아니라 구매 물품 수가 아닌지?"
   ]
  },
  {
   "cell_type": "code",
   "execution_count": 17,
   "id": "89b3707e-d3b8-4d9c-bedd-50d7aef845ee",
   "metadata": {
    "tags": []
   },
   "outputs": [],
   "source": [
    "#### 수정 제안"
   ]
  },
  {
   "cell_type": "code",
   "execution_count": 25,
   "id": "1ca69263-50ba-45e8-9a6d-ea65fee7bebc",
   "metadata": {
    "tags": []
   },
   "outputs": [
    {
     "data": {
      "text/plain": [
       "idUser\n",
       "U100001      3\n",
       "U100277    175\n",
       "U100278    249\n",
       "U100279    672\n",
       "U100280     36\n",
       "          ... \n",
       "U101094    466\n",
       "U101095    230\n",
       "U101096    248\n",
       "U101097    291\n",
       "U101098    272\n",
       "Length: 823, dtype: int64"
      ]
     },
     "execution_count": 25,
     "metadata": {},
     "output_type": "execute_result"
    }
   ],
   "source": [
    "visit_counts = df_sales_raw.groupby([\"idUser\", \"SalesDT\"]).size().groupby(\"idUser\").size()\n",
    "visit_counts"
   ]
  },
  {
   "cell_type": "code",
   "execution_count": 27,
   "id": "919a948b-f42b-405d-9435-7fd441afcc79",
   "metadata": {
    "tags": []
   },
   "outputs": [],
   "source": [
    "# 한번 방문시 찍히는 DT의 시간은 같으므로 unique함수를 통해 제거 하려 했는데 \\\n",
    "# user가 모두 2번이 찍히는 현상이 발생 하여 size함수를 두번 써서 id와 sales DT를 그룹화 하여 size를 두번 써서 방문 횟수를 나타나게 하였음"
   ]
  },
  {
   "cell_type": "code",
   "execution_count": 26,
   "id": "8fe12950-e71e-43be-8599-2762b812ac74",
   "metadata": {
    "tags": []
   },
   "outputs": [
    {
     "data": {
      "text/html": [
       "<div>\n",
       "<style scoped>\n",
       "    .dataframe tbody tr th:only-of-type {\n",
       "        vertical-align: middle;\n",
       "    }\n",
       "\n",
       "    .dataframe tbody tr th {\n",
       "        vertical-align: top;\n",
       "    }\n",
       "\n",
       "    .dataframe thead th {\n",
       "        text-align: right;\n",
       "    }\n",
       "</style>\n",
       "<table border=\"1\" class=\"dataframe\">\n",
       "  <thead>\n",
       "    <tr style=\"text-align: right;\">\n",
       "      <th></th>\n",
       "      <th>idUser</th>\n",
       "      <th>Gender</th>\n",
       "      <th>AgeGroup</th>\n",
       "      <th>VisitCount</th>\n",
       "      <th>TotalPrice</th>\n",
       "    </tr>\n",
       "  </thead>\n",
       "  <tbody>\n",
       "    <tr>\n",
       "      <th>0</th>\n",
       "      <td>U100001</td>\n",
       "      <td>남성</td>\n",
       "      <td>40대</td>\n",
       "      <td>3.0</td>\n",
       "      <td>8250.0</td>\n",
       "    </tr>\n",
       "    <tr>\n",
       "      <th>1</th>\n",
       "      <td>U100002</td>\n",
       "      <td>여성</td>\n",
       "      <td>30대</td>\n",
       "      <td>NaN</td>\n",
       "      <td>NaN</td>\n",
       "    </tr>\n",
       "    <tr>\n",
       "      <th>2</th>\n",
       "      <td>U100003</td>\n",
       "      <td>남성</td>\n",
       "      <td>30대</td>\n",
       "      <td>NaN</td>\n",
       "      <td>NaN</td>\n",
       "    </tr>\n",
       "    <tr>\n",
       "      <th>3</th>\n",
       "      <td>U100004</td>\n",
       "      <td>남성</td>\n",
       "      <td>30대</td>\n",
       "      <td>NaN</td>\n",
       "      <td>NaN</td>\n",
       "    </tr>\n",
       "    <tr>\n",
       "      <th>4</th>\n",
       "      <td>U100005</td>\n",
       "      <td>여성</td>\n",
       "      <td>30대</td>\n",
       "      <td>NaN</td>\n",
       "      <td>NaN</td>\n",
       "    </tr>\n",
       "    <tr>\n",
       "      <th>...</th>\n",
       "      <td>...</td>\n",
       "      <td>...</td>\n",
       "      <td>...</td>\n",
       "      <td>...</td>\n",
       "      <td>...</td>\n",
       "    </tr>\n",
       "    <tr>\n",
       "      <th>1093</th>\n",
       "      <td>U101094</td>\n",
       "      <td>남성</td>\n",
       "      <td>10대</td>\n",
       "      <td>466.0</td>\n",
       "      <td>2865010.0</td>\n",
       "    </tr>\n",
       "    <tr>\n",
       "      <th>1094</th>\n",
       "      <td>U101095</td>\n",
       "      <td>남성</td>\n",
       "      <td>40대</td>\n",
       "      <td>230.0</td>\n",
       "      <td>1717250.0</td>\n",
       "    </tr>\n",
       "    <tr>\n",
       "      <th>1095</th>\n",
       "      <td>U101096</td>\n",
       "      <td>여성</td>\n",
       "      <td>30대</td>\n",
       "      <td>248.0</td>\n",
       "      <td>1767010.0</td>\n",
       "    </tr>\n",
       "    <tr>\n",
       "      <th>1096</th>\n",
       "      <td>U101097</td>\n",
       "      <td>남성</td>\n",
       "      <td>30대</td>\n",
       "      <td>291.0</td>\n",
       "      <td>2452490.0</td>\n",
       "    </tr>\n",
       "    <tr>\n",
       "      <th>1097</th>\n",
       "      <td>U101098</td>\n",
       "      <td>남성</td>\n",
       "      <td>30대</td>\n",
       "      <td>272.0</td>\n",
       "      <td>2033190.0</td>\n",
       "    </tr>\n",
       "  </tbody>\n",
       "</table>\n",
       "<p>1098 rows × 5 columns</p>\n",
       "</div>"
      ],
      "text/plain": [
       "       idUser Gender AgeGroup  VisitCount  TotalPrice\n",
       "0     U100001     남성      40대         3.0      8250.0\n",
       "1     U100002     여성      30대         NaN         NaN\n",
       "2     U100003     남성      30대         NaN         NaN\n",
       "3     U100004     남성      30대         NaN         NaN\n",
       "4     U100005     여성      30대         NaN         NaN\n",
       "...       ...    ...      ...         ...         ...\n",
       "1093  U101094     남성      10대       466.0   2865010.0\n",
       "1094  U101095     남성      40대       230.0   1717250.0\n",
       "1095  U101096     여성      30대       248.0   1767010.0\n",
       "1096  U101097     남성      30대       291.0   2452490.0\n",
       "1097  U101098     남성      30대       272.0   2033190.0\n",
       "\n",
       "[1098 rows x 5 columns]"
      ]
     },
     "metadata": {},
     "output_type": "display_data"
    }
   ],
   "source": [
    "visit_counts = df_sales_raw.groupby([\"idUser\", \"SalesDT\"]).size().groupby(\"idUser\").size().rename(\"VisitCount\")\n",
    "df_users = df_users_raw.merge(visit_counts, left_on=\"idUser\", right_index=True, how=\"left\")\n",
    "df_users.rename(columns={\"idUser_x\": \"idUser\"}, inplace=True)\n",
    "total_prices = df_sales_raw.groupby(\"idUser\")[\"Price\"].sum()\n",
    "df_users[\"TotalPrice\"] = df_users[\"idUser\"].map(total_prices)\n",
    "display(df_users)"
   ]
  },
  {
   "cell_type": "code",
   "execution_count": 28,
   "id": "3ae4b56c-adc2-4f68-8472-2d727fb6beb2",
   "metadata": {
    "tags": []
   },
   "outputs": [],
   "source": [
    "df_users.dropna(subset=['VisitCount'], inplace=True)"
   ]
  },
  {
   "cell_type": "code",
   "execution_count": 29,
   "id": "06bc7135-f0f7-4ffa-a740-d2a2a713e540",
   "metadata": {
    "tags": []
   },
   "outputs": [],
   "source": [
    "# 아이디만 있고 방문횟수가 없는 사람들 삭제 해야겠지....?"
   ]
  },
  {
   "cell_type": "code",
   "execution_count": 30,
   "id": "3fc70b07-39d0-4147-8ee3-2e8eccdda3d3",
   "metadata": {
    "tags": []
   },
   "outputs": [],
   "source": [
    "df_users.reset_index(drop=True, inplace=True)"
   ]
  },
  {
   "cell_type": "code",
   "execution_count": 31,
   "id": "2a1dbfab-d4ae-41a3-8f2d-a36e4b6cf766",
   "metadata": {
    "tags": []
   },
   "outputs": [],
   "source": [
    "# 인데스를 초기화 해주어야 함"
   ]
  },
  {
   "cell_type": "code",
   "execution_count": 32,
   "id": "1ed0e5ab-2fbe-4353-958c-e4a771aed3de",
   "metadata": {
    "tags": []
   },
   "outputs": [
    {
     "data": {
      "text/html": [
       "<div>\n",
       "<style scoped>\n",
       "    .dataframe tbody tr th:only-of-type {\n",
       "        vertical-align: middle;\n",
       "    }\n",
       "\n",
       "    .dataframe tbody tr th {\n",
       "        vertical-align: top;\n",
       "    }\n",
       "\n",
       "    .dataframe thead th {\n",
       "        text-align: right;\n",
       "    }\n",
       "</style>\n",
       "<table border=\"1\" class=\"dataframe\">\n",
       "  <thead>\n",
       "    <tr style=\"text-align: right;\">\n",
       "      <th></th>\n",
       "      <th>VisitCount</th>\n",
       "      <th>TotalPrice</th>\n",
       "    </tr>\n",
       "  </thead>\n",
       "  <tbody>\n",
       "    <tr>\n",
       "      <th>count</th>\n",
       "      <td>823.000000</td>\n",
       "      <td>8.230000e+02</td>\n",
       "    </tr>\n",
       "    <tr>\n",
       "      <th>mean</th>\n",
       "      <td>250.720535</td>\n",
       "      <td>1.917539e+06</td>\n",
       "    </tr>\n",
       "    <tr>\n",
       "      <th>std</th>\n",
       "      <td>185.476750</td>\n",
       "      <td>1.434000e+06</td>\n",
       "    </tr>\n",
       "    <tr>\n",
       "      <th>min</th>\n",
       "      <td>3.000000</td>\n",
       "      <td>8.250000e+03</td>\n",
       "    </tr>\n",
       "    <tr>\n",
       "      <th>25%</th>\n",
       "      <td>98.500000</td>\n",
       "      <td>7.070650e+05</td>\n",
       "    </tr>\n",
       "    <tr>\n",
       "      <th>50%</th>\n",
       "      <td>228.000000</td>\n",
       "      <td>1.730400e+06</td>\n",
       "    </tr>\n",
       "    <tr>\n",
       "      <th>75%</th>\n",
       "      <td>337.500000</td>\n",
       "      <td>2.508425e+06</td>\n",
       "    </tr>\n",
       "    <tr>\n",
       "      <th>max</th>\n",
       "      <td>717.000000</td>\n",
       "      <td>5.741100e+06</td>\n",
       "    </tr>\n",
       "  </tbody>\n",
       "</table>\n",
       "</div>"
      ],
      "text/plain": [
       "       VisitCount    TotalPrice\n",
       "count  823.000000  8.230000e+02\n",
       "mean   250.720535  1.917539e+06\n",
       "std    185.476750  1.434000e+06\n",
       "min      3.000000  8.250000e+03\n",
       "25%     98.500000  7.070650e+05\n",
       "50%    228.000000  1.730400e+06\n",
       "75%    337.500000  2.508425e+06\n",
       "max    717.000000  5.741100e+06"
      ]
     },
     "execution_count": 32,
     "metadata": {},
     "output_type": "execute_result"
    }
   ],
   "source": [
    "df_users.describe()"
   ]
  },
  {
   "cell_type": "code",
   "execution_count": 33,
   "id": "cd91e898-a9b3-4bed-8214-398c789c5cf0",
   "metadata": {
    "tags": []
   },
   "outputs": [],
   "source": [
    "# users 이쌍치의 제거로 그래프를 다시 찍어봐야 함"
   ]
  },
  {
   "cell_type": "code",
   "execution_count": 34,
   "id": "7acf434f-bd10-4730-8219-7ff38ef08aa2",
   "metadata": {
    "tags": []
   },
   "outputs": [
    {
     "data": {
      "image/png": "[encoded data removed]",
      "text/plain": [
       "<Figure size 640x480 with 1 Axes>"
      ]
     },
     "metadata": {},
     "output_type": "display_data"
    }
   ],
   "source": [
    "print_barplot(df_users, x=\"AgeGroup\", hue=\"Gender\", x_order=age_order, hue_order=gender_order)"
   ]
  },
  {
   "cell_type": "code",
   "execution_count": 35,
   "id": "382ea5b9-d85d-4e60-8d0b-d2ed8a5dfd78",
   "metadata": {
    "tags": []
   },
   "outputs": [
    {
     "name": "stderr",
     "output_type": "stream",
     "text": [
      "No artists with labels found to put in legend.  Note that artists whose label start with an underscore are ignored when legend() is called with no argument.\n"
     ]
    },
    {
     "data": {
      "image/png": "[encoded data removed]",
      "text/plain": [
       "<Figure size 640x480 with 1 Axes>"
      ]
     },
     "metadata": {},
     "output_type": "display_data"
    }
   ],
   "source": [
    "print_barplot(df_users, x = \"Gender\", x_order=gender_order)"
   ]
  },
  {
   "cell_type": "code",
   "execution_count": 36,
   "id": "68fcf387-9d9b-4609-b130-4e07c407a9a0",
   "metadata": {
    "tags": []
   },
   "outputs": [
    {
     "name": "stderr",
     "output_type": "stream",
     "text": [
      "No artists with labels found to put in legend.  Note that artists whose label start with an underscore are ignored when legend() is called with no argument.\n"
     ]
    },
    {
     "data": {
      "image/png": "[encoded data removed]",
      "text/plain": [
       "<Figure size 640x480 with 1 Axes>"
      ]
     },
     "metadata": {},
     "output_type": "display_data"
    }
   ],
   "source": [
    "print_barplot(df_users, x = \"AgeGroup\", x_order=age_order)"
   ]
  },
  {
   "cell_type": "code",
   "execution_count": 37,
   "id": "24e50f60-7e50-48b8-a5d9-df37d76852b9",
   "metadata": {
    "scrolled": true,
    "tags": []
   },
   "outputs": [
    {
     "data": {
      "image/png": "[encoded data removed]",
      "text/plain": [
       "<Figure size 640x480 with 1 Axes>"
      ]
     },
     "metadata": {},
     "output_type": "display_data"
    }
   ],
   "source": [
    "print_barplot(df_users, x=\"Gender\", hue=\"AgeGroup\", x_order=gender_order, hue_order=age_order)"
   ]
  },
  {
   "cell_type": "code",
   "execution_count": 43,
   "id": "87467147-6964-4d3a-aadc-28205cc2bf75",
   "metadata": {
    "tags": []
   },
   "outputs": [
    {
     "name": "stdout",
     "output_type": "stream",
     "text": [
      "<class 'pandas.core.frame.DataFrame'>\n",
      "RangeIndex: 823 entries, 0 to 822\n",
      "Data columns (total 5 columns):\n",
      " #   Column      Non-Null Count  Dtype  \n",
      "---  ------      --------------  -----  \n",
      " 0   idUser      823 non-null    object \n",
      " 1   Gender      823 non-null    object \n",
      " 2   AgeGroup    823 non-null    object \n",
      " 3   VisitCount  823 non-null    float64\n",
      " 4   TotalPrice  823 non-null    float64\n",
      "dtypes: float64(2), object(3)\n",
      "memory usage: 32.3+ KB\n"
     ]
    }
   ],
   "source": [
    "df_users.info()"
   ]
  },
  {
   "cell_type": "code",
   "execution_count": 57,
   "id": "6787f30e-d5eb-4400-818b-cefc895cf0f9",
   "metadata": {
    "tags": []
   },
   "outputs": [
    {
     "data": {
      "image/png": "[encoded data removed]",
      "text/plain": [
       "<Figure size 640x480 with 1 Axes>"
      ]
     },
     "metadata": {},
     "output_type": "display_data"
    }
   ],
   "source": [
    "df_mean_price = df_users.groupby([\"Gender\", \"AgeGroup\"])[\"TotalPrice\"].mean().reset_index()\n",
    "# groupby를 이용해서 각 그룹의 지출 평균 금액을 계산하고 데이터프레임을 생성합니다. 이후에 reset_index()를 호출해서 인덱스를 초기화합니다.\n",
    "print_barplot(df_mean_price, x=\"Gender\", y=\"TotalPrice\", hue=\"AgeGroup\", x_order=gender_order, hue_order=age_order)\n",
    "# 위에서 생성한 데이터프레임을 활용해서 그래프를 출력합니다."
   ]
  },
  {
   "cell_type": "code",
   "execution_count": 49,
   "id": "37154ae3-a5a4-48e2-b5e4-9c61a7644243",
   "metadata": {
    "tags": []
   },
   "outputs": [],
   "source": [
    "# 평균 지출 금액인데 혹시나 이상치가 있을까봐 걱정됨 중앙"
   ]
  },
  {
   "cell_type": "code",
   "execution_count": 56,
   "id": "32bc3223-6382-4faf-a510-3313397f08b0",
   "metadata": {
    "tags": []
   },
   "outputs": [
    {
     "data": {
      "image/png": "[encoded data removed]",
      "text/plain": [
       "<Figure size 640x480 with 1 Axes>"
      ]
     },
     "metadata": {},
     "output_type": "display_data"
    }
   ],
   "source": []
  },
  {
   "cell_type": "code",
   "execution_count": 38,
   "id": "7fcb9b6b-1421-4a30-9ddd-754f62841faf",
   "metadata": {
    "tags": []
   },
   "outputs": [],
   "source": [
    "## 수정된거 \n",
    "# 1 users count시 방문횡수가 0인 사람이 존재\n",
    "# 2 이상치라 판단 하여 제거\n",
    "# 3 makeORMaker 의 결측값이 존재 하는데 결측값들은 중분류 소분류 이름 모두가 제각각이며 URL로 확인이 불가능 하여 제거 하였다.\n",
    "# 4 그래프는 위 과정을 거친 후에 그리는게 맞다고 판단 제거 한 뒤에 그래프를 그렸다.\n",
    "# 5 "
   ]
  },
  {
   "cell_type": "code",
   "execution_count": 39,
   "id": "c137657a-8a04-4aba-b068-b7049880ed50",
   "metadata": {
    "tags": []
   },
   "outputs": [
    {
     "data": {
      "text/plain": [
       "idUser        0\n",
       "Gender        0\n",
       "AgeGroup      0\n",
       "VisitCount    0\n",
       "TotalPrice    0\n",
       "dtype: int64"
      ]
     },
     "execution_count": 39,
     "metadata": {},
     "output_type": "execute_result"
    }
   ],
   "source": [
    "df_users.isnull().sum()"
   ]
  },
  {
   "cell_type": "code",
   "execution_count": null,
   "id": "33289929-0389-4b76-bafb-d9f31f44e880",
   "metadata": {},
   "outputs": [],
   "source": []
  }
 ],
 "metadata": {
  "kernelspec": {
   "display_name": "Python 3 (ipykernel)",
   "language": "python",
   "name": "python3"
  },
  "language_info": {
   "codemirror_mode": {
    "name": "ipython",
    "version": 3
   },
   "file_extension": ".py",
   "mimetype": "text/x-python",
   "name": "python",
   "nbconvert_exporter": "python",
   "pygments_lexer": "ipython3",
   "version": "3.10.9"
  }
 },
 "nbformat": 4,
 "nbformat_minor": 5
}
