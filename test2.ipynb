{
 "cells": [
  {
   "cell_type": "code",
   "execution_count": null,
   "id": "831e78da-20c9-4d23-ba40-6743e3476eb0",
   "metadata": {},
   "outputs": [],
   "source": [
    "def add(a,c):\n",
    "    b = 0 \n",
    "    for i in range(a,c):\n",
    "        b+=i\n",
    "        \n",
    "x = add(5,10)"
   ]
  }
 ],
 "metadata": {
  "kernelspec": {
   "display_name": "Python 3 (ipykernel)",
   "language": "python",
   "name": "python3"
  },
  "language_info": {
   "codemirror_mode": {
    "name": "ipython",
    "version": 3
   },
   "file_extension": ".py",
   "mimetype": "text/x-python",
   "name": "python",
   "nbconvert_exporter": "python",
   "pygments_lexer": "ipython3",
   "version": "3.10.9"
  }
 },
 "nbformat": 4,
 "nbformat_minor": 5
}
